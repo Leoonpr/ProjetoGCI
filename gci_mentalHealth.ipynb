{
 "cells": [
  {
   "cell_type": "markdown",
   "id": "d3dfa761-6f8d-4030-b57d-d273fd89232d",
   "metadata": {},
   "source": [
    "> O uso excessivo de redes sociais causa impacto na saúde mental dos jovens e dos adultos?\n",
    "\n",
    "### População \n",
    "Jovens e adultos\n",
    "\n",
    "### Variáveis\n",
    "\n",
    "*   **Variável Categorica**: \\[*Quantidade de tempo que se utiliza redes sociais*\\]\n",
    "* Menos  de uma hora -  grupo 1\n",
    "* Entre 1 e 2 horas  -  grupo 2\n",
    "* Entre 2 e 3 horas - grupo 3\n",
    "* Entre 3 e 4 horas -  grupo 4\n",
    "* Entre 4 e 5 horas - grupo 5\n",
    "* Mais de 5 horas -  grupo 6\n",
    "\n",
    "\n",
    "*   **Variável Quantitativa**: Perguntas relacionadas a saude mental, com uma escala de 1 a 5\n",
    "\n",
    "\n",
    "###Hipóteses\n",
    "*   **Hipótese Nula:** Não há relação entre o usi excessivo de redes sociais e \n",
    "\n",
    "*   **Hipótese Alternativa:** O uso excessivo de redes sociais causa impacto na saúde mental dos jovens e dos adultos.\n",
    "\n",
    "\n",
    "###Iniciando nosso programa\n",
    "Importando as bibliotecas"
   ]
  },
  {
   "cell_type": "code",
   "execution_count": 2,
   "id": "c2f460ba-3cdc-446a-81c7-9fc38aaa1e8d",
   "metadata": {},
   "outputs": [],
   "source": [
    "# -*- coding: utf-8 -*-\n",
    "\n",
    "import numpy\n",
    "import pandas\n",
    "import statsmodels.formula.api as smf\n",
    "import statsmodels.stats.multicomp as multi \n",
    "import seaborn\n",
    "import matplotlib.pyplot as plt\n",
    "\n",
    "pandas.set_option('mode.chained_assignment', None)"
   ]
  },
  {
   "cell_type": "code",
   "execution_count": 3,
   "id": "dfbaf94d",
   "metadata": {},
   "outputs": [
    {
     "data": {
      "text/html": [
       "<div>\n",
       "<style scoped>\n",
       "    .dataframe tbody tr th:only-of-type {\n",
       "        vertical-align: middle;\n",
       "    }\n",
       "\n",
       "    .dataframe tbody tr th {\n",
       "        vertical-align: top;\n",
       "    }\n",
       "\n",
       "    .dataframe thead th {\n",
       "        text-align: right;\n",
       "    }\n",
       "</style>\n",
       "<table border=\"1\" class=\"dataframe\">\n",
       "  <thead>\n",
       "    <tr style=\"text-align: right;\">\n",
       "      <th></th>\n",
       "      <th>Timestamp</th>\n",
       "      <th>col1</th>\n",
       "      <th>col2</th>\n",
       "      <th>col3</th>\n",
       "      <th>col4</th>\n",
       "      <th>col5</th>\n",
       "      <th>col6</th>\n",
       "      <th>col7</th>\n",
       "      <th>col8</th>\n",
       "      <th>col9</th>\n",
       "      <th>...</th>\n",
       "      <th>col11</th>\n",
       "      <th>col12</th>\n",
       "      <th>col13</th>\n",
       "      <th>col14</th>\n",
       "      <th>col15</th>\n",
       "      <th>col16</th>\n",
       "      <th>col17</th>\n",
       "      <th>col18</th>\n",
       "      <th>col19</th>\n",
       "      <th>col20</th>\n",
       "    </tr>\n",
       "  </thead>\n",
       "  <tbody>\n",
       "    <tr>\n",
       "      <th>0</th>\n",
       "      <td>4/18/2022 19:18:47</td>\n",
       "      <td>21.0</td>\n",
       "      <td>Male</td>\n",
       "      <td>In a relationship</td>\n",
       "      <td>University Student</td>\n",
       "      <td>University</td>\n",
       "      <td>Yes</td>\n",
       "      <td>Facebook, Twitter, Instagram, YouTube, Discord...</td>\n",
       "      <td>3</td>\n",
       "      <td>5</td>\n",
       "      <td>...</td>\n",
       "      <td>2</td>\n",
       "      <td>5</td>\n",
       "      <td>2</td>\n",
       "      <td>5</td>\n",
       "      <td>2</td>\n",
       "      <td>3</td>\n",
       "      <td>2</td>\n",
       "      <td>5</td>\n",
       "      <td>4</td>\n",
       "      <td>5</td>\n",
       "    </tr>\n",
       "    <tr>\n",
       "      <th>1</th>\n",
       "      <td>4/18/2022 19:19:28</td>\n",
       "      <td>21.0</td>\n",
       "      <td>Female</td>\n",
       "      <td>Single</td>\n",
       "      <td>University Student</td>\n",
       "      <td>University</td>\n",
       "      <td>Yes</td>\n",
       "      <td>Facebook, Twitter, Instagram, YouTube, Discord...</td>\n",
       "      <td>6</td>\n",
       "      <td>4</td>\n",
       "      <td>...</td>\n",
       "      <td>2</td>\n",
       "      <td>4</td>\n",
       "      <td>5</td>\n",
       "      <td>4</td>\n",
       "      <td>5</td>\n",
       "      <td>1</td>\n",
       "      <td>1</td>\n",
       "      <td>5</td>\n",
       "      <td>4</td>\n",
       "      <td>5</td>\n",
       "    </tr>\n",
       "    <tr>\n",
       "      <th>2</th>\n",
       "      <td>4/18/2022 19:25:59</td>\n",
       "      <td>21.0</td>\n",
       "      <td>Female</td>\n",
       "      <td>Single</td>\n",
       "      <td>University Student</td>\n",
       "      <td>University</td>\n",
       "      <td>Yes</td>\n",
       "      <td>Facebook, Instagram, YouTube, Pinterest</td>\n",
       "      <td>4</td>\n",
       "      <td>3</td>\n",
       "      <td>...</td>\n",
       "      <td>1</td>\n",
       "      <td>2</td>\n",
       "      <td>5</td>\n",
       "      <td>4</td>\n",
       "      <td>3</td>\n",
       "      <td>3</td>\n",
       "      <td>1</td>\n",
       "      <td>4</td>\n",
       "      <td>2</td>\n",
       "      <td>5</td>\n",
       "    </tr>\n",
       "    <tr>\n",
       "      <th>3</th>\n",
       "      <td>4/18/2022 19:29:43</td>\n",
       "      <td>21.0</td>\n",
       "      <td>Female</td>\n",
       "      <td>Single</td>\n",
       "      <td>University Student</td>\n",
       "      <td>University</td>\n",
       "      <td>Yes</td>\n",
       "      <td>Facebook, Instagram</td>\n",
       "      <td>6</td>\n",
       "      <td>4</td>\n",
       "      <td>...</td>\n",
       "      <td>1</td>\n",
       "      <td>3</td>\n",
       "      <td>5</td>\n",
       "      <td>3</td>\n",
       "      <td>5</td>\n",
       "      <td>1</td>\n",
       "      <td>2</td>\n",
       "      <td>4</td>\n",
       "      <td>3</td>\n",
       "      <td>2</td>\n",
       "    </tr>\n",
       "    <tr>\n",
       "      <th>4</th>\n",
       "      <td>4/18/2022 19:33:31</td>\n",
       "      <td>21.0</td>\n",
       "      <td>Female</td>\n",
       "      <td>Single</td>\n",
       "      <td>University Student</td>\n",
       "      <td>University</td>\n",
       "      <td>Yes</td>\n",
       "      <td>Facebook, Instagram, YouTube</td>\n",
       "      <td>3</td>\n",
       "      <td>3</td>\n",
       "      <td>...</td>\n",
       "      <td>4</td>\n",
       "      <td>4</td>\n",
       "      <td>5</td>\n",
       "      <td>5</td>\n",
       "      <td>3</td>\n",
       "      <td>3</td>\n",
       "      <td>3</td>\n",
       "      <td>4</td>\n",
       "      <td>4</td>\n",
       "      <td>1</td>\n",
       "    </tr>\n",
       "  </tbody>\n",
       "</table>\n",
       "<p>5 rows × 21 columns</p>\n",
       "</div>"
      ],
      "text/plain": [
       "            Timestamp  col1    col2               col3                col4  \\\n",
       "0  4/18/2022 19:18:47  21.0    Male  In a relationship  University Student   \n",
       "1  4/18/2022 19:19:28  21.0  Female             Single  University Student   \n",
       "2  4/18/2022 19:25:59  21.0  Female             Single  University Student   \n",
       "3  4/18/2022 19:29:43  21.0  Female             Single  University Student   \n",
       "4  4/18/2022 19:33:31  21.0  Female             Single  University Student   \n",
       "\n",
       "         col5 col6                                               col7  col8  \\\n",
       "0  University  Yes  Facebook, Twitter, Instagram, YouTube, Discord...     3   \n",
       "1  University  Yes  Facebook, Twitter, Instagram, YouTube, Discord...     6   \n",
       "2  University  Yes            Facebook, Instagram, YouTube, Pinterest     4   \n",
       "3  University  Yes                                Facebook, Instagram     6   \n",
       "4  University  Yes                       Facebook, Instagram, YouTube     3   \n",
       "\n",
       "   col9  ...  col11  col12  col13  col14  col15  col16  col17  col18  col19  \\\n",
       "0     5  ...      2      5      2      5      2      3      2      5      4   \n",
       "1     4  ...      2      4      5      4      5      1      1      5      4   \n",
       "2     3  ...      1      2      5      4      3      3      1      4      2   \n",
       "3     4  ...      1      3      5      3      5      1      2      4      3   \n",
       "4     3  ...      4      4      5      5      3      3      3      4      4   \n",
       "\n",
       "   col20  \n",
       "0      5  \n",
       "1      5  \n",
       "2      5  \n",
       "3      2  \n",
       "4      1  \n",
       "\n",
       "[5 rows x 21 columns]"
      ]
     },
     "execution_count": 3,
     "metadata": {},
     "output_type": "execute_result"
    }
   ],
   "source": [
    "#Importando o Dataset\n",
    "\n",
    "data = pandas.read_csv('./datasets/data.csv', low_memory=False)\n",
    "data.head()"
   ]
  },
  {
   "cell_type": "markdown",
   "id": "ccce7485-b8f8-48ff-87b3-eff56ad66506",
   "metadata": {},
   "source": [
    "## Colunas presentes no dataset\n",
    "\n",
    "* Timestamp\n",
    "* col1. Qual a sua idade? \n",
    "* col2. Qual o seu gênero? \n",
    "* col3. Qual o seu status de relacionamento \n",
    "* col4. Occupation Status,\n",
    "* col5. A que tipo de organização você está afiliado?\n",
    "* col6. Você usa redes sociais?\n",
    "* col7. Quais plataformas de mídia social você costuma usar?\n",
    "* col8. Qual é o tempo médio que você passa nas redes sociais todos os dias?\n",
    "* col9. Com que frequência você usa mídias sociais sem um propósito específico? (Pergunta relacionada a foco)\n",
    "* col10. Com que frequência você se distrai com as redes sociais quando está ocupado fazendo alguma coisa? (Pergunta relacionada a foco)\n",
    "* col11. Você se sente inquieto/ansioso se não usa as redes sociais há algum tempo? (Pergunta relacionada a ansiedade)\n",
    "* col12. Em uma escala de 1 a 5, quão facilmente você se distrai? (Pergunta relacionada a foco)\n",
    "* col13. Numa escala de 1 a 5, o quanto você se incomoda com as preocupações? (Pergunta relacionada a ansiedade)\n",
    "* col14. Você acha difícil se concentrar nas coisas? (Pergunta relacionada a foco)\n",
    "* col15. Numa escala de 1 a 5, com que frequência você se compara a outras pessoas de sucesso através do uso das redes sociais? (Pergunta relacionada a autoestima)\n",
    "* col16. Seguindo a pergunta anterior, como você se sente em relação a essas comparações, de modo geral? (Pergunta relacionada a autoestima)\n",
    "* col17. Com que frequência você busca validação de recursos de mídia social? (Pergunta relacionada a autoestima)\n",
    "* col18. Com que frequência você se sente deprimido ou pra baixo? (Pergunta relacionada a depressão)\n",
    "* col19. Numa escala de 1 a 5, com que frequência oscila o seu interesse nas atividades diárias? (Pergunta relacionada a depressão)\n",
    "* col20. Numa escala de 1 a 5, com que frequência você enfrenta problemas relacionados ao sono? (Pergunta relacionada a depressão)"
   ]
  },
  {
   "cell_type": "code",
   "execution_count": 4,
   "id": "c84bcfcf-4d24-4552-965d-dcb44c22e9d0",
   "metadata": {},
   "outputs": [
    {
     "name": "stdout",
     "output_type": "stream",
     "text": [
      "Media das colunas numericas\n",
      "col1     26.136590\n",
      "col8      3.908524\n",
      "col9      3.553015\n",
      "col10     3.320166\n",
      "col11     2.588358\n",
      "col12     3.349272\n",
      "col13     3.559252\n",
      "col14     3.245322\n",
      "col15     2.831601\n",
      "col16     2.775468\n",
      "col17     2.455301\n",
      "col18     3.255717\n",
      "col19     3.170478\n",
      "col20     3.201663\n",
      "dtype: float64\n",
      "\n",
      "Mediana das colunas numericas\n",
      "col1     22.0\n",
      "col8      4.0\n",
      "col9      4.0\n",
      "col10     3.0\n",
      "col11     2.0\n",
      "col12     3.0\n",
      "col13     4.0\n",
      "col14     3.0\n",
      "col15     3.0\n",
      "col16     3.0\n",
      "col17     2.0\n",
      "col18     3.0\n",
      "col19     3.0\n",
      "col20     3.0\n",
      "dtype: float64\n",
      "\n",
      "Desvios padrao das colunas\n",
      "col1     9.915110\n",
      "col8     1.590319\n",
      "col9     1.096299\n",
      "col10    1.328137\n",
      "col11    1.257059\n",
      "col12    1.175552\n",
      "col13    1.283356\n",
      "col14    1.347105\n",
      "col15    1.407835\n",
      "col16    1.056479\n",
      "col17    1.247739\n",
      "col18    1.313033\n",
      "col19    1.256666\n",
      "col20    1.461619\n",
      "dtype: float64\n"
     ]
    }
   ],
   "source": [
    "##Vamos analisar a media da colunas númericas\n",
    "media_por_coluna = data.mean(numeric_only=True)\n",
    "print(f'Media das colunas numericas')\n",
    "print(media_por_coluna)\n",
    "print(f'')\n",
    "##Analisando a mediana de todas as colunas numéricas\n",
    "mediana = data.median(numeric_only=True)\n",
    "print(f'Mediana das colunas numericas')\n",
    "print(mediana)\n",
    "##Analisando o desvio padrao da coluna 8\n",
    "desvios_padrao = data['col8'].std()\n",
    "print(f'')\n",
    "print(f'Desvios padrao das colunas')\n",
    "desvio_padrao_por_coluna = data.std(numeric_only=True)\n",
    "print(desvio_padrao_por_coluna)"
   ]
  },
  {
   "cell_type": "markdown",
   "id": "028d4fdf-6b2e-47b2-b694-559827b9bf61",
   "metadata": {},
   "source": [
    "<h1> Vamos começar a analisar as colunas </h1>"
   ]
  },
  {
   "cell_type": "markdown",
   "id": "7ec79950",
   "metadata": {},
   "source": [
    "<h3>Em primeiro lugar, iremos analisar a coluna 8 com a coluna 9</h3>\n",
    "\n",
    "## Questão de pesquisa\n",
    "\n",
    "    O tempo que se passa em redes sociais está associada à quanto você você usa mídias sociais sem um propósito específico?\n",
    "\n",
    "### População de jovens e adultos \n",
    "\n",
    "### Variáveis\n",
    "\n",
    "*    **Variável Categorica:** Qual a quantidade tempo que você passa em redes sociais\n",
    "\n",
    "*    **Variavel numérica:** Com que frequência você usa mídias sociais sem um propósito específico? (escala de 1 a 5)\n",
    "\n",
    "### Hipóteses\n",
    "\n",
    "*    **Hipótese Nula:** Não há relação entre o uso excessivo de redes sociais e o quanto você você usa mídias sociais sem um propósito específico\n",
    "\n",
    "*    **Hipótese Alternativa:** Há relação entre o uso excessivo de redes sociais e o quanto você você usa mídias sociais sem um propósito específico\n"
   ]
  },
  {
   "cell_type": "code",
   "execution_count": 36,
   "id": "4795269d",
   "metadata": {},
   "outputs": [
    {
     "name": "stdout",
     "output_type": "stream",
     "text": [
      "                            OLS Regression Results                            \n",
      "==============================================================================\n",
      "Dep. Variable:                   col9   R-squared:                       0.171\n",
      "Model:                            OLS   Adj. R-squared:                  0.163\n",
      "Method:                 Least Squares   F-statistic:                     19.63\n",
      "Date:                Wed, 29 Nov 2023   Prob (F-statistic):           8.60e-18\n",
      "Time:                        14:08:40   Log-Likelihood:                -681.06\n",
      "No. Observations:                 481   AIC:                             1374.\n",
      "Df Residuals:                     475   BIC:                             1399.\n",
      "Df Model:                           5                                         \n",
      "Covariance Type:            nonrobust                                         \n",
      "================================================================================\n",
      "                   coef    std err          t      P>|t|      [0.025      0.975]\n",
      "--------------------------------------------------------------------------------\n",
      "Intercept        2.3824      0.172     13.846      0.000       2.044       2.720\n",
      "C(col8)[T.2]     0.6748      0.210      3.218      0.001       0.263       1.087\n",
      "C(col8)[T.3]     1.0929      0.199      5.494      0.000       0.702       1.484\n",
      "C(col8)[T.4]     1.2736      0.201      6.334      0.000       0.878       1.669\n",
      "C(col8)[T.5]     1.3639      0.211      6.456      0.000       0.949       1.779\n",
      "C(col8)[T.6]     1.6866      0.196      8.620      0.000       1.302       2.071\n",
      "==============================================================================\n",
      "Omnibus:                       12.472   Durbin-Watson:                   1.964\n",
      "Prob(Omnibus):                  0.002   Jarque-Bera (JB):               13.095\n",
      "Skew:                          -0.400   Prob(JB):                      0.00143\n",
      "Kurtosis:                       2.888   Cond. No.                         10.3\n",
      "==============================================================================\n",
      "\n",
      "Notes:\n",
      "[1] Standard Errors assume that the covariance matrix of the errors is correctly specified.\n"
     ]
    }
   ],
   "source": [
    "sub3 = data[['col8', 'col9']].dropna()\n",
    "\n",
    "model2 = smf.ols(formula='col9 ~ C(col8)', data=sub3).fit()\n",
    "print (model2.summary())"
   ]
  },
  {
   "cell_type": "code",
   "execution_count": 37,
   "id": "66f745b2",
   "metadata": {},
   "outputs": [
    {
     "name": "stdout",
     "output_type": "stream",
     "text": [
      "Multiple Comparison of Means - Tukey HSD, FWER=0.05\n",
      "===================================================\n",
      "group1 group2 meandiff p-adj   lower  upper  reject\n",
      "---------------------------------------------------\n",
      "     1      2   0.6748 0.0173  0.0747 1.2749   True\n",
      "     1      3   1.0929    0.0  0.5237 1.6621   True\n",
      "     1      4   1.2736    0.0  0.6982 1.8489   True\n",
      "     1      5   1.3639    0.0  0.7594 1.9684   True\n",
      "     1      6   1.6866    0.0  1.1268 2.2465   True\n",
      "     2      3   0.4181 0.0812 -0.0284 0.8646  False\n",
      "     2      4   0.5988 0.0025  0.1445  1.053   True\n",
      "     2      5   0.6891  0.001  0.1985 1.1798   True\n",
      "     2      6   1.0118    0.0  0.5773 1.4463   True\n",
      "     3      4   0.1807 0.8102 -0.2319 0.5932  False\n",
      "     3      5    0.271 0.5228 -0.1813 0.7233  False\n",
      "     3      6   0.5937 0.0002   0.203 0.9844   True\n",
      "     4      5   0.0904 0.9934 -0.3697 0.5504  False\n",
      "     4      6   0.4131  0.038  0.0135 0.8126   True\n",
      "     5      6   0.3227  0.291 -0.1178 0.7632  False\n",
      "---------------------------------------------------\n"
     ]
    }
   ],
   "source": [
    "mc1 = multi.MultiComparison(sub3['col9'], sub3['col8'])\n",
    "res1 = mc1.tukeyhsd()\n",
    "print(res1.summary())"
   ]
  },
  {
   "cell_type": "code",
   "execution_count": 38,
   "id": "014d1a02",
   "metadata": {},
   "outputs": [
    {
     "data": {
      "text/plain": [
       "Text(9.444444444444445, 0.5, 'quanto você você usa mídias sociais sem um propósito específico')"
      ]
     },
     "execution_count": 38,
     "metadata": {},
     "output_type": "execute_result"
    },
    {
     "data": {
      "image/png": "[encoded data removed]",
      "text/plain": [
       "<Figure size 500x500 with 1 Axes>"
      ]
     },
     "metadata": {},
     "output_type": "display_data"
    }
   ],
   "source": [
    "seaborn.catplot(x='col8', y='col9', data=sub3, kind=\"bar\", errorbar=None)\n",
    "plt.xlabel('Tempo de uso de redes sociais')\n",
    "plt.ylabel('quanto você você usa mídias sociais sem um propósito específico')"
   ]
  },
  {
   "cell_type": "markdown",
   "id": "ce321a24-8a89-4036-bec0-d79993b506c9",
   "metadata": {},
   "source": [
    "<h2> Conclusão </h2>\n",
    "\n",
    "* O grupo 1 comparado com todos os outros grupos mostram diferenças médias estatisticamente significativas.\n",
    "\n",
    "* Os grupos 2 e 4, 2 e 5, 2 e 6 mostram diferenças médias estatisticamente significativas.\n",
    "\n",
    "* Os grupos 3 e 6 mostra diferença média estatisticamente significativa e entre os grupos 4 e 6, 5 e 6, tembém há diferenças médias estatisticamente significativas.\n",
    "\n",
    "* **Pode-se concluir que as pessoas que estão no grupo 1 (Menos de uma hora) e no grupo 2 (Entre 1 e 2 horas) acabam não gastando seu tempo com redes sociais sem motivo, enquanto as pessoas, princiaplmente, do grupo 6 (Mais de 5 horas) acabam gastando seu tempo sem motivo.**\n",
    "  \n",
    "* **Analisando os resultados percebe-se que o uso excessivo de redes sociais está relacionado a uma maior dependencia sobre ela, visto que pessoas que usam bastante suas redes acabam por usa-lá sem um propósito específico.**"
   ]
  },
  {
   "cell_type": "markdown",
   "id": "dd8ffade-1137-428b-9cb7-9782856f7965",
   "metadata": {},
   "source": [
    "<h3>Agora, iremos analisar a coluna 8 com a coluna 10</h3>\n",
    "\n",
    "## Questão de pesquisa\n",
    "\n",
    "    O tempo que se passa em redes sociais está associada à quanto você se ditrai com mídias sociais enquanto está ocupado fazendo algo?\n",
    "\n",
    "### População de jovens e adultos \n",
    "\n",
    "### Variáveis\n",
    "\n",
    "*    **Variável Categorica:** Qual a quantidade tempo que você passa em redes sociais\n",
    "\n",
    "*    **Variavel numérica:** Com que frequência você se distrai com as redes sociais quando está ocupado fazendo alguma coisa? (pergunta de 1 a 5)\n",
    "\n",
    "### Hipóteses\n",
    "\n",
    "*    **Hipótese Nula:** Não há relação entre o uso excessivo de redes sociais e a frequência você se distrai com as \n",
    "redes sociais quando está ocupado fazendo alguma coisa\n",
    "\n",
    "*    **Hipótese Alternativa:** Há relação entre o uso excessivo de redes sociais e o quanto você se distrai com as \n",
    "redes sociais quando está ocupado fazendo alguma coisa"
   ]
  },
  {
   "cell_type": "code",
   "execution_count": 18,
   "id": "935bc46c-d01b-4a72-a441-2ca9588985e2",
   "metadata": {},
   "outputs": [
    {
     "name": "stdout",
     "output_type": "stream",
     "text": [
      "                            OLS Regression Results                            \n",
      "==============================================================================\n",
      "Dep. Variable:                  col10   R-squared:                       0.175\n",
      "Model:                            OLS   Adj. R-squared:                  0.167\n",
      "Method:                 Least Squares   F-statistic:                     20.19\n",
      "Date:                Sat, 25 Nov 2023   Prob (F-statistic):           2.78e-18\n",
      "Time:                        01:37:02   Log-Likelihood:                -772.16\n",
      "No. Observations:                 481   AIC:                             1556.\n",
      "Df Residuals:                     475   BIC:                             1581.\n",
      "Df Model:                           5                                         \n",
      "Covariance Type:            nonrobust                                         \n",
      "================================================================================\n",
      "                   coef    std err          t      P>|t|      [0.025      0.975]\n",
      "--------------------------------------------------------------------------------\n",
      "Intercept        1.8235      0.208      8.770      0.000       1.415       2.232\n",
      "C(col8)[T.2]     0.8336      0.253      3.289      0.001       0.336       1.332\n",
      "C(col8)[T.3]     1.4933      0.240      6.212      0.000       1.021       1.966\n",
      "C(col8)[T.4]     1.6281      0.243      6.700      0.000       1.151       2.106\n",
      "C(col8)[T.5]     1.9526      0.255      7.648      0.000       1.451       2.454\n",
      "C(col8)[T.6]     1.9696      0.236      8.330      0.000       1.505       2.434\n",
      "==============================================================================\n",
      "Omnibus:                       28.244   Durbin-Watson:                   1.770\n",
      "Prob(Omnibus):                  0.000   Jarque-Bera (JB):               15.796\n",
      "Skew:                          -0.281   Prob(JB):                     0.000371\n",
      "Kurtosis:                       2.312   Cond. No.                         10.3\n",
      "==============================================================================\n",
      "\n",
      "Notes:\n",
      "[1] Standard Errors assume that the covariance matrix of the errors is correctly specified.\n"
     ]
    }
   ],
   "source": [
    "sub3 = data[['col8', 'col10']].dropna()\n",
    "\n",
    "model2 = smf.ols(formula='col10 ~ C(col8)', data=sub3).fit()\n",
    "print (model2.summary())"
   ]
  },
  {
   "cell_type": "code",
   "execution_count": 19,
   "id": "8cf91110-0755-4334-a41f-ff549a10a644",
   "metadata": {},
   "outputs": [
    {
     "name": "stdout",
     "output_type": "stream",
     "text": [
      "Multiple Comparison of Means - Tukey HSD, FWER=0.05\n",
      "===================================================\n",
      "group1 group2 meandiff p-adj   lower  upper  reject\n",
      "---------------------------------------------------\n",
      "     1      2   0.8336 0.0137  0.1084 1.5588   True\n",
      "     1      3   1.4933    0.0  0.8054 2.1812   True\n",
      "     1      4   1.6281    0.0  0.9328 2.3234   True\n",
      "     1      5   1.9526    0.0  1.2221 2.6831   True\n",
      "     1      6   1.9696    0.0   1.293 2.6462   True\n",
      "     2      3   0.6597 0.0068  0.1201 1.1992   True\n",
      "     2      4   0.7945 0.0006  0.2455 1.3434   True\n",
      "     2      5    1.119    0.0   0.526 1.7119   True\n",
      "     2      6    1.136    0.0  0.6109  1.661   True\n",
      "     3      4   0.1348 0.9719 -0.3638 0.6334  False\n",
      "     3      5   0.4593 0.1568 -0.0874 1.0059  False\n",
      "     3      6   0.4763 0.0466  0.0041 0.9484   True\n",
      "     4      5   0.3245 0.5522 -0.2314 0.8804  False\n",
      "     4      6   0.3415 0.3304 -0.1414 0.8244  False\n",
      "     5      6    0.017    1.0 -0.5154 0.5493  False\n",
      "---------------------------------------------------\n"
     ]
    }
   ],
   "source": [
    "mc1 = multi.MultiComparison(sub3['col10'], sub3['col8'])\n",
    "res1 = mc1.tukeyhsd()\n",
    "print(res1.summary())"
   ]
  },
  {
   "cell_type": "code",
   "execution_count": 10,
   "id": "05adce66-6e5a-4f21-83f7-9de25ca2ea48",
   "metadata": {},
   "outputs": [
    {
     "data": {
      "text/plain": [
       "Text(9.444444444444445, 0.5, 'quanto se distrai com redes sociais enquanto faz algo')"
      ]
     },
     "execution_count": 10,
     "metadata": {},
     "output_type": "execute_result"
    },
    {
     "data": {
      "image/png": "[encoded data removed]",
      "text/plain": [
       "<Figure size 500x500 with 1 Axes>"
      ]
     },
     "metadata": {},
     "output_type": "display_data"
    }
   ],
   "source": [
    "seaborn.catplot(x='col8', y='col10', data=sub3, kind=\"bar\", errorbar=None)\n",
    "plt.xlabel('Tempo de uso de redes sociais')\n",
    "plt.ylabel('quanto se distrai com redes sociais enquanto faz algo')"
   ]
  },
  {
   "cell_type": "markdown",
   "id": "eed044cb-7996-4dc3-8cf5-20df8c5f5682",
   "metadata": {},
   "source": [
    "<h2> Conclusão </h2>\n",
    "\n",
    "* O grupo 1 comparado com todos os outros grupos mostram diferenças médias estatisticamente significativas.\n",
    "    \n",
    "* O grupo 2 comparado com todos os outros grupos mostram diferenças médias estatisticamente significativas.\n",
    "\n",
    "* **Podemos concluir, que as pessoas que estão no grupo 1 (menos de uma hora) e no grupo 2 (entre 1 e 2 horas) são menos propicias a se distrairem\n",
    "com redes sociais, conseguindo manter o foco nas atividades importantes. Já, principalmente as pessoas dos grupos 5 (entre 4 e 5 horas) e as do\n",
    "grupo 6 (mais de 5 horas) são as que mais se distraem, não conseguindo manter o foco.**\n",
    "\n",
    "* **Ou seja o uso excessivo de redes sociais realmente aumenta a distração e a perda do foco, levando a uma maior procastinação.**\n",
    "\n",
    "\n"
   ]
  },
  {
   "cell_type": "markdown",
   "id": "7c75a0b8-405d-47a5-a081-1e0ebb10ed10",
   "metadata": {},
   "source": [
    "<h3>Agora, iremos analisar a coluna 8 com a coluna 11</h3>\n",
    "\n",
    "## Questão de pesquisa\n",
    "\n",
    "    O tempo que se passa em redes sociais está associada à quanto você se fica inquieto/ansioso quando não usa há algum tempo?\n",
    "\n",
    "### População de jovens e adultos \n",
    "\n",
    "### Variáveis\n",
    "\n",
    "*    **Variável Categorica:** Qual a quantidade tempo que você passa em redes sociais\n",
    "\n",
    "*    **Variavel numérica:** Você se sente inquieto se não usa as redes sociais há algum tempo? (pergunta de 1 a 5)\n",
    "\n",
    "### Hipóteses\n",
    "\n",
    "*    **Hipótese Nula:** Não há relação entre o uso excessivo de redes sociais e o quanto você se sente inquieto se nao usa as redes \n",
    "\n",
    "*    **Hipótese Alternativa:** Há relação entre o uso excessivo de redes sociais e o quanto você se sente inquieto se nao usa as redes "
   ]
  },
  {
   "cell_type": "code",
   "execution_count": 39,
   "id": "7749c9b7-e507-4982-a5d1-9aec59f07b9f",
   "metadata": {},
   "outputs": [
    {
     "name": "stdout",
     "output_type": "stream",
     "text": [
      "                            OLS Regression Results                            \n",
      "==============================================================================\n",
      "Dep. Variable:                  col11   R-squared:                       0.181\n",
      "Model:                            OLS   Adj. R-squared:                  0.172\n",
      "Method:                 Least Squares   F-statistic:                     21.01\n",
      "Date:                Wed, 29 Nov 2023   Prob (F-statistic):           5.44e-19\n",
      "Time:                        16:20:26   Log-Likelihood:                -744.00\n",
      "No. Observations:                 481   AIC:                             1500.\n",
      "Df Residuals:                     475   BIC:                             1525.\n",
      "Df Model:                           5                                         \n",
      "Covariance Type:            nonrobust                                         \n",
      "================================================================================\n",
      "                   coef    std err          t      P>|t|      [0.025      0.975]\n",
      "--------------------------------------------------------------------------------\n",
      "Intercept        1.3824      0.196      7.049      0.000       0.997       1.768\n",
      "C(col8)[T.2]     0.4462      0.239      1.867      0.063      -0.023       0.916\n",
      "C(col8)[T.3]     1.2414      0.227      5.475      0.000       0.796       1.687\n",
      "C(col8)[T.4]     1.2413      0.229      5.416      0.000       0.791       1.692\n",
      "C(col8)[T.5]     1.4535      0.241      6.036      0.000       0.980       1.927\n",
      "C(col8)[T.6]     1.8159      0.223      8.143      0.000       1.378       2.254\n",
      "==============================================================================\n",
      "Omnibus:                       19.733   Durbin-Watson:                   1.697\n",
      "Prob(Omnibus):                  0.000   Jarque-Bera (JB):               11.436\n",
      "Skew:                           0.213   Prob(JB):                      0.00329\n",
      "Kurtosis:                       2.376   Cond. No.                         10.3\n",
      "==============================================================================\n",
      "\n",
      "Notes:\n",
      "[1] Standard Errors assume that the covariance matrix of the errors is correctly specified.\n"
     ]
    }
   ],
   "source": [
    "sub3 = data[['col8', 'col11']].dropna()\n",
    "\n",
    "model2 = smf.ols(formula='col11 ~ C(col8)', data=sub3).fit()\n",
    "print (model2.summary())"
   ]
  },
  {
   "cell_type": "code",
   "execution_count": 40,
   "id": "e4c510c5-60da-4dc7-9328-0257eeeb0269",
   "metadata": {},
   "outputs": [
    {
     "name": "stdout",
     "output_type": "stream",
     "text": [
      "Multiple Comparison of Means - Tukey HSD, FWER=0.05\n",
      "===================================================\n",
      "group1 group2 meandiff p-adj   lower  upper  reject\n",
      "---------------------------------------------------\n",
      "     1      2   0.4462 0.4241 -0.2378 1.1302  False\n",
      "     1      3   1.2414    0.0  0.5926 1.8902   True\n",
      "     1      4   1.2413    0.0  0.5855 1.8971   True\n",
      "     1      5   1.4535    0.0  0.7645 2.1425   True\n",
      "     1      6   1.8159    0.0  1.1778  2.454   True\n",
      "     2      3   0.7952 0.0001  0.2863 1.3041   True\n",
      "     2      4   0.7951 0.0002  0.2773 1.3128   True\n",
      "     2      5   1.0072    0.0   0.448 1.5665   True\n",
      "     2      6   1.3697    0.0  0.8745 1.8649   True\n",
      "     3      4  -0.0001    1.0 -0.4704 0.4701  False\n",
      "     3      5   0.2121 0.8478 -0.3035 0.7276  False\n",
      "     3      6   0.5745 0.0034  0.1292 1.0198   True\n",
      "     4      5   0.2122 0.8565 -0.3122 0.7365  False\n",
      "     4      6   0.5746 0.0045  0.1192 1.0301   True\n",
      "     5      6   0.3625 0.3073 -0.1396 0.8645  False\n",
      "---------------------------------------------------\n"
     ]
    }
   ],
   "source": [
    "mc1 = multi.MultiComparison(sub3['col11'], sub3['col8'])\n",
    "res1 = mc1.tukeyhsd()\n",
    "print(res1.summary())"
   ]
  },
  {
   "cell_type": "code",
   "execution_count": 42,
   "id": "dcaedc67-41e0-478e-a0c3-51c338ccb07c",
   "metadata": {},
   "outputs": [
    {
     "data": {
      "text/plain": [
       "Text(9.444444444444445, 0.5, 'Inquieto se não usa as redes sociais há algum tempo')"
      ]
     },
     "execution_count": 42,
     "metadata": {},
     "output_type": "execute_result"
    },
    {
     "data": {
      "image/png": "[encoded data removed]",
      "text/plain": [
       "<Figure size 500x500 with 1 Axes>"
      ]
     },
     "metadata": {},
     "output_type": "display_data"
    }
   ],
   "source": [
    "seaborn.catplot(x='col8', y='col11', data=sub3, kind=\"bar\", errorbar=None)\n",
    "plt.xlabel('Tempo de uso de redes sociais')\n",
    "plt.ylabel('Inquieto se não usa as redes sociais há algum tempo')"
   ]
  },
  {
   "cell_type": "markdown",
   "id": "d4f8833f-7c10-4d1d-af52-aefac6e51c7c",
   "metadata": {},
   "source": [
    "<h2> Conclusão </h2>\n",
    "\n",
    "* O grupo 1 comparado com todos os outros grupos, com exceção do grupo 2, mostram diferenças médias estatisticamente significativas.\n",
    "    \n",
    "* O grupo 2 comparado com todos os outros grupos, com exceção do grupo 1, mostram diferenças médias estatisticamente significativas.\n",
    "\n",
    "* O grupo 6 comparado com todos os outros grupos, com exceção do grupo 5, mostram diferenças médias estatisticamente significativas.\n",
    "\n",
    "* **Logo, pode-se concluir que as pessoas que estão no grupo 1 (menos de uma hora) e no grupo 2 (entre 1 e 2 horas) são menos propicias a ficarem inquietas\n",
    "se não usarem suas redes sociais há um certo tempo, enquanto pessoas do grupo 6 (mais de 5 horas) são as que mais ficam inquietas.**\n",
    "\n",
    "* **Analisando essas informações percebe-se que o uso excessivo de redes sociais causa um certo vicio, deixando as pessoas mais ansiosas caso não tenham\n",
    "usado suas midias há um certo tempo.**"
   ]
  },
  {
   "cell_type": "markdown",
   "id": "a4d21bc4-2765-481f-b60f-75b97d27d8f3",
   "metadata": {},
   "source": [
    "<h3>Agora, iremos analisar a coluna 8 com a coluna 12</h3>\n",
    "\n",
    "## Questão de pesquisa\n",
    "\n",
    "    O tempo que se passa em redes sociais está associada ao quanto voce se distrai com facilidade?\n",
    "\n",
    "### População de jovens e adultos \n",
    "\n",
    "### Variáveis\n",
    "\n",
    "*    **Variável Categorica:** Qual a quantidade tempo que você passa em redes sociais\n",
    "\n",
    "*    **Variavel numérica:** Quão facilmente voce se distrai? (pergunta de 1 a 5)\n",
    "\n",
    "### Hipóteses\n",
    "\n",
    "*    **Hipótese Nula:** Não há relação entre o uso excessivo de redes sociais e o quão facilmente você se distrai\n",
    "\n",
    "*    **Hipótese Alternativa:** Há relação entre o uso excessivo de redes sociais e o quão facilmente você se distrai"
   ]
  },
  {
   "cell_type": "code",
   "execution_count": 44,
   "id": "f93d8e1f-0257-4f9f-b85e-27a40c775feb",
   "metadata": {},
   "outputs": [
    {
     "name": "stdout",
     "output_type": "stream",
     "text": [
      "                            OLS Regression Results                            \n",
      "==============================================================================\n",
      "Dep. Variable:                  col12   R-squared:                       0.143\n",
      "Model:                            OLS   Adj. R-squared:                  0.134\n",
      "Method:                 Least Squares   F-statistic:                     15.88\n",
      "Date:                Wed, 29 Nov 2023   Prob (F-statistic):           1.80e-14\n",
      "Time:                        16:41:41   Log-Likelihood:                -722.64\n",
      "No. Observations:                 481   AIC:                             1457.\n",
      "Df Residuals:                     475   BIC:                             1482.\n",
      "Df Model:                           5                                         \n",
      "Covariance Type:            nonrobust                                         \n",
      "================================================================================\n",
      "                   coef    std err          t      P>|t|      [0.025      0.975]\n",
      "--------------------------------------------------------------------------------\n",
      "Intercept        2.0588      0.188     10.975      0.000       1.690       2.427\n",
      "C(col8)[T.2]     0.8697      0.229      3.804      0.000       0.420       1.319\n",
      "C(col8)[T.3]     1.2481      0.217      5.755      0.000       0.822       1.674\n",
      "C(col8)[T.4]     1.4143      0.219      6.451      0.000       0.984       1.845\n",
      "C(col8)[T.5]     1.5830      0.230      6.873      0.000       1.130       2.036\n",
      "C(col8)[T.6]     1.6912      0.213      7.928      0.000       1.272       2.110\n",
      "==============================================================================\n",
      "Omnibus:                       10.999   Durbin-Watson:                   1.856\n",
      "Prob(Omnibus):                  0.004   Jarque-Bera (JB):                6.953\n",
      "Skew:                          -0.134   Prob(JB):                       0.0309\n",
      "Kurtosis:                       2.476   Cond. No.                         10.3\n",
      "==============================================================================\n",
      "\n",
      "Notes:\n",
      "[1] Standard Errors assume that the covariance matrix of the errors is correctly specified.\n"
     ]
    }
   ],
   "source": [
    "sub3 = data[['col8', 'col12']].dropna()\n",
    "\n",
    "model2 = smf.ols(formula='col12~ C(col8)', data=sub3).fit()\n",
    "print (model2.summary())"
   ]
  },
  {
   "cell_type": "code",
   "execution_count": 45,
   "id": "e62fc47e-ad70-4a26-9191-95f756cc7272",
   "metadata": {},
   "outputs": [
    {
     "name": "stdout",
     "output_type": "stream",
     "text": [
      "Multiple Comparison of Means - Tukey HSD, FWER=0.05\n",
      "===================================================\n",
      "group1 group2 meandiff p-adj   lower  upper  reject\n",
      "---------------------------------------------------\n",
      "     1      2   0.8697 0.0022  0.2155  1.524   True\n",
      "     1      3   1.2481    0.0  0.6275 1.8687   True\n",
      "     1      4   1.4143    0.0   0.787 2.0416   True\n",
      "     1      5    1.583    0.0  0.9239  2.242   True\n",
      "     1      6   1.6912    0.0  1.0808 2.3016   True\n",
      "     2      3   0.3784 0.2286 -0.1084 0.8651  False\n",
      "     2      4   0.5445 0.0216  0.0493 1.0398   True\n",
      "     2      5   0.7132 0.0021  0.1783 1.2482   True\n",
      "     2      6   0.8214    0.0  0.3477 1.2951   True\n",
      "     3      4   0.1662 0.8979 -0.2836  0.616  False\n",
      "     3      5   0.3349 0.3773 -0.1583  0.828  False\n",
      "     3      6   0.4431 0.0361  0.0171  0.869   True\n",
      "     4      5   0.1687 0.9295 -0.3329 0.6702  False\n",
      "     4      6   0.2769 0.4547 -0.1588 0.7125  False\n",
      "     5      6   0.1082 0.9875 -0.3721 0.5885  False\n",
      "---------------------------------------------------\n"
     ]
    }
   ],
   "source": [
    "mc1 = multi.MultiComparison(sub3['col12'], sub3['col8'])\n",
    "res1 = mc1.tukeyhsd()\n",
    "print(res1.summary())"
   ]
  },
  {
   "cell_type": "code",
   "execution_count": 28,
   "id": "4f7fe5c1-f9ad-46d0-8a17-15fb65d58b1d",
   "metadata": {},
   "outputs": [
    {
     "data": {
      "text/plain": [
       "Text(9.444444444444445, 0.5, 'O quão facilmente voce se distrai')"
      ]
     },
     "execution_count": 28,
     "metadata": {},
     "output_type": "execute_result"
    },
    {
     "data": {
      "image/png": "[encoded data removed]",
      "text/plain": [
       "<Figure size 500x500 with 1 Axes>"
      ]
     },
     "metadata": {},
     "output_type": "display_data"
    }
   ],
   "source": [
    "seaborn.catplot(x='col8', y='col12', data=sub3, kind=\"bar\", errorbar=None)\n",
    "plt.xlabel('Tempo de uso de redes sociais')\n",
    "plt.ylabel('O quão facilmente voce se distrai')"
   ]
  },
  {
   "cell_type": "markdown",
   "id": "62cd0435-ccd4-4bd3-8d22-b0d2629ea045",
   "metadata": {},
   "source": [
    "<h3>Conclusão</h3>\n",
    "\n",
    "* O grupo 1 comparado com todos os outros grupos mostram diferenças médias estatisticamente significativas.\n",
    "\n",
    "* O grupo 2 comparado com todos os outros grupos, com exceção do grupo 3, mostram diferenças médias estatisticamente significativas.\n",
    "\n",
    "* **Podemos concluir que as pessoas inclusas no grupo 1 (menos de uma hora) e no grupo 2 (entre 1 e 2) não se distraem facilmente, enquanto as\n",
    "pessoas do grupo 5 (Entre 4 e 5 horas) e do grupo 6 (Mais de 5 horas) se distraem muito mais facilidade.**\n",
    "\n",
    "* **Ou seja, analisando as informações percebe-se que o uso excessivo de redes sociais causa uma maior distração e falta de atenção.**"
   ]
  },
  {
   "cell_type": "markdown",
   "id": "dbde826e-f4d8-401a-be9c-af646671b8aa",
   "metadata": {},
   "source": [
    "<h3>Agora, iremos analisar a coluna 8 com a coluna 13</h3>\n",
    "\n",
    "## Questão de pesquisa\n",
    "\n",
    "    O tempo que se passa em redes sociais está associada ao quanto voce se incomoda com preocupações?\n",
    "\n",
    "### População de jovens e adultos \n",
    "\n",
    "### Variáveis\n",
    "\n",
    "*    **Variável Categorica:** Qual a quantidade tempo que você passa em redes sociais\n",
    "\n",
    "*    **Variavel numérica:** O quanto você se incomoda com as preocupações? (pergunta de 1 a 5)\n",
    "\n",
    "### Hipóteses\n",
    "\n",
    "*    **Hipótese Nula:** Não há relação entre o uso excessivo de redes sociais e o quanto você se incomoda com preocupações.\n",
    "\n",
    "*    **Hipótese Alternativa:** Há relação entre o uso excessivo de redes sociais e o quanto você se incomoda com preocupações."
   ]
  },
  {
   "cell_type": "code",
   "execution_count": 31,
   "id": "46ec153c-5172-4888-a867-a6379220264c",
   "metadata": {},
   "outputs": [
    {
     "name": "stdout",
     "output_type": "stream",
     "text": [
      "                            OLS Regression Results                            \n",
      "==============================================================================\n",
      "Dep. Variable:                  col13   R-squared:                       0.132\n",
      "Model:                            OLS   Adj. R-squared:                  0.123\n",
      "Method:                 Least Squares   F-statistic:                     14.41\n",
      "Date:                Sat, 25 Nov 2023   Prob (F-statistic):           3.75e-13\n",
      "Time:                        01:59:23   Log-Likelihood:                -768.04\n",
      "No. Observations:                 481   AIC:                             1548.\n",
      "Df Residuals:                     475   BIC:                             1573.\n",
      "Df Model:                           5                                         \n",
      "Covariance Type:            nonrobust                                         \n",
      "================================================================================\n",
      "                   coef    std err          t      P>|t|      [0.025      0.975]\n",
      "--------------------------------------------------------------------------------\n",
      "Intercept        2.3529      0.206     11.413      0.000       1.948       2.758\n",
      "C(col8)[T.2]     0.7042      0.251      2.802      0.005       0.210       1.198\n",
      "C(col8)[T.3]     1.0530      0.238      4.418      0.000       0.585       1.521\n",
      "C(col8)[T.4]     1.5503      0.241      6.435      0.000       1.077       2.024\n",
      "C(col8)[T.5]     1.3336      0.253      5.269      0.000       0.836       1.831\n",
      "C(col8)[T.6]     1.6471      0.234      7.026      0.000       1.186       2.108\n",
      "==============================================================================\n",
      "Omnibus:                       25.830   Durbin-Watson:                   1.839\n",
      "Prob(Omnibus):                  0.000   Jarque-Bera (JB):               19.996\n",
      "Skew:                          -0.404   Prob(JB):                     4.55e-05\n",
      "Kurtosis:                       2.414   Cond. No.                         10.3\n",
      "==============================================================================\n",
      "\n",
      "Notes:\n",
      "[1] Standard Errors assume that the covariance matrix of the errors is correctly specified.\n"
     ]
    }
   ],
   "source": [
    "sub3 = data[['col8', 'col13']].dropna()\n",
    "\n",
    "model2 = smf.ols(formula='col13~ C(col8)', data=sub3).fit()\n",
    "print (model2.summary())"
   ]
  },
  {
   "cell_type": "code",
   "execution_count": 33,
   "id": "4eda02ae-6691-4ad6-bd97-d5c3f6dec44a",
   "metadata": {},
   "outputs": [
    {
     "name": "stdout",
     "output_type": "stream",
     "text": [
      "Multiple Comparison of Means - Tukey HSD, FWER=0.05\n",
      "===================================================\n",
      "group1 group2 meandiff p-adj   lower  upper  reject\n",
      "---------------------------------------------------\n",
      "     1      2   0.7042 0.0588 -0.0148 1.4233  False\n",
      "     1      3    1.053 0.0002   0.371  1.735   True\n",
      "     1      4   1.5503    0.0  0.8609 2.2397   True\n",
      "     1      5   1.3336    0.0  0.6093 2.0579   True\n",
      "     1      6   1.6471    0.0  0.9762 2.3179   True\n",
      "     2      3   0.3488 0.4248 -0.1862 0.8838  False\n",
      "     2      4   0.8461 0.0002  0.3018 1.3904   True\n",
      "     2      5   0.6294 0.0278  0.0415 1.2173   True\n",
      "     2      6   0.9429    0.0  0.4222 1.4635   True\n",
      "     3      4   0.4973 0.0477  0.0029 0.9916   True\n",
      "     3      5   0.2806 0.6763 -0.2614 0.8226  False\n",
      "     3      6   0.5941 0.0042  0.1259 1.0622   True\n",
      "     4      5  -0.2167  0.871 -0.7679 0.3345  False\n",
      "     4      6   0.0968 0.9924  -0.382 0.5756  False\n",
      "     5      6   0.3134  0.533 -0.2144 0.8413  False\n",
      "---------------------------------------------------\n"
     ]
    }
   ],
   "source": [
    "mc1 = multi.MultiComparison(sub3['col13'], sub3['col8'])\n",
    "res1 = mc1.tukeyhsd()\n",
    "print(res1.summary())"
   ]
  },
  {
   "cell_type": "code",
   "execution_count": 44,
   "id": "e400744b-4e4d-43f3-a69b-7ca24efed259",
   "metadata": {},
   "outputs": [
    {
     "data": {
      "text/plain": [
       "Text(9.444444444444445, 0.5, 'O quanto você se incomoda com as preocupações')"
      ]
     },
     "execution_count": 44,
     "metadata": {},
     "output_type": "execute_result"
    },
    {
     "data": {
      "image/png": "[encoded data removed]",
      "text/plain": [
       "<Figure size 500x500 with 1 Axes>"
      ]
     },
     "metadata": {},
     "output_type": "display_data"
    }
   ],
   "source": [
    "seaborn.catplot(x='col8', y='col13', data=sub3, kind=\"bar\", errorbar=None)\n",
    "plt.xlabel('Tempo de uso de redes sociais')\n",
    "plt.ylabel('O quanto você se incomoda com as preocupações')"
   ]
  },
  {
   "cell_type": "markdown",
   "id": "25d81a0c-7f18-4f32-a51d-e2b9ff8224f7",
   "metadata": {},
   "source": [
    "<h3>Conclusão</h3>\n",
    "\n",
    "* O grupo 6 comparado com todos os outros grupos mostram diferenças médias estatisticamente significativas.\n",
    "\n",
    "* O grupo 1 comparado com todos os outros grupos, com excessão do grupo 2, mostram diferenças médias estatisticamente significativas.\n",
    "\n",
    "* O grupo 2 comparado com todos os outros grupos, com excessão do grupo 3, mostram diferenças médias estatisticamente significativas.\n",
    "\n",
    "* **Podemos concluir que as pessoas do grupo 1 (Menos de uma hora) e do grupo 2 (Entre 1 e 2 horas) não se incomodam tanto com preocupações,\n",
    "enquanto as pessoas, principalmente do grupo 4 (Entre 3 e 4 horas) e do grupo 6 (Mais de 5 horas) se sentem mais incomodados com essas preocupações.**\n",
    "\n",
    "* **Ou seja, de acordo com os resultados percebemos que o uso excessivo de redes sociais está ligada a o aumento de ansiedade entre os usúarios,\n",
    "visto que eles passam a se incomodar com preocupações.**\n"
   ]
  },
  {
   "cell_type": "markdown",
   "id": "2de9cc73-5c62-4838-acaa-e876edde76be",
   "metadata": {},
   "source": [
    "<h3>Agora, iremos analisar a coluna 8 com a coluna 14</h3>\n",
    "\n",
    "## Questão de pesquisa\n",
    "\n",
    "    O tempo que se passa em redes sociais está associada a dificuldade de se concentrar?\n",
    "\n",
    "### População de jovens e adultos \n",
    "\n",
    "### Variáveis\n",
    "\n",
    "*    **Variável Categorica:** Qual a quantidade tempo que você passa em redes sociais\n",
    "\n",
    "*    **Variavel numérica:** O quanto você sente dificuldade de se concentrar? (pergunta de 1 a 5)\n",
    "\n",
    "### Hipóteses\n",
    "\n",
    "*    **Hipótese Nula:** Não há relação entre o uso excessivo de redes sociais e a dificuldade de se concentrar.\n",
    "\n",
    "*    **Hipótese Alternativa:** Há relação entre o uso excessivo de redes sociais  e a dificuldade de se concentrar."
   ]
  },
  {
   "cell_type": "code",
   "execution_count": 47,
   "id": "2d5908c8-e33b-41ca-a3ce-001645fdbdcb",
   "metadata": {},
   "outputs": [
    {
     "name": "stdout",
     "output_type": "stream",
     "text": [
      "                            OLS Regression Results                            \n",
      "==============================================================================\n",
      "Dep. Variable:                  col14   R-squared:                       0.139\n",
      "Model:                            OLS   Adj. R-squared:                  0.130\n",
      "Method:                 Least Squares   F-statistic:                     15.35\n",
      "Date:                Sat, 25 Nov 2023   Prob (F-statistic):           5.37e-14\n",
      "Time:                        02:09:15   Log-Likelihood:                -789.31\n",
      "No. Observations:                 481   AIC:                             1591.\n",
      "Df Residuals:                     475   BIC:                             1616.\n",
      "Df Model:                           5                                         \n",
      "Covariance Type:            nonrobust                                         \n",
      "================================================================================\n",
      "                   coef    std err          t      P>|t|      [0.025      0.975]\n",
      "--------------------------------------------------------------------------------\n",
      "Intercept        1.7941      0.215      8.326      0.000       1.371       2.218\n",
      "C(col8)[T.2]     0.9202      0.263      3.503      0.001       0.404       1.436\n",
      "C(col8)[T.3]     1.4435      0.249      5.794      0.000       0.954       1.933\n",
      "C(col8)[T.4]     1.7435      0.252      6.924      0.000       1.249       2.238\n",
      "C(col8)[T.5]     1.6387      0.265      6.194      0.000       1.119       2.159\n",
      "C(col8)[T.6]     1.8611      0.245      7.595      0.000       1.380       2.343\n",
      "==============================================================================\n",
      "Omnibus:                       34.431   Durbin-Watson:                   1.892\n",
      "Prob(Omnibus):                  0.000   Jarque-Bera (JB):               15.022\n",
      "Skew:                          -0.207   Prob(JB):                     0.000547\n",
      "Kurtosis:                       2.239   Cond. No.                         10.3\n",
      "==============================================================================\n",
      "\n",
      "Notes:\n",
      "[1] Standard Errors assume that the covariance matrix of the errors is correctly specified.\n"
     ]
    }
   ],
   "source": [
    "sub3 = data[['col8', 'col14']].dropna()\n",
    "\n",
    "model2 = smf.ols(formula='col14~ C(col8)', data=sub3).fit()\n",
    "print (model2.summary())"
   ]
  },
  {
   "cell_type": "code",
   "execution_count": 48,
   "id": "83be7126-66df-4517-88da-5dd91997ecde",
   "metadata": {},
   "outputs": [
    {
     "name": "stdout",
     "output_type": "stream",
     "text": [
      "Multiple Comparison of Means - Tukey HSD, FWER=0.05\n",
      "===================================================\n",
      "group1 group2 meandiff p-adj   lower  upper  reject\n",
      "---------------------------------------------------\n",
      "     1      2   0.9202 0.0066  0.1686 1.6717   True\n",
      "     1      3   1.4435    0.0  0.7306 2.1564   True\n",
      "     1      4   1.7435    0.0   1.023 2.4641   True\n",
      "     1      5   1.6387    0.0  0.8817 2.3958   True\n",
      "     1      6   1.8611    0.0  1.1599 2.5622   True\n",
      "     2      3   0.5233 0.0815 -0.0358 1.0825  False\n",
      "     2      4   0.8233 0.0006  0.2544 1.3923   True\n",
      "     2      5   0.7186 0.0114  0.1041  1.333   True\n",
      "     2      6   0.9409    0.0  0.3967  1.485   True\n",
      "     3      4      0.3 0.5581 -0.2167 0.8167  False\n",
      "     3      5   0.1952 0.9223 -0.3713 0.7617  False\n",
      "     3      6   0.4175 0.1442 -0.0718 0.9069  False\n",
      "     4      5  -0.1048 0.9954 -0.6809 0.4713  False\n",
      "     4      6   0.1175 0.9849 -0.3829  0.618  False\n",
      "     5      6   0.2223 0.8586 -0.3294  0.774  False\n",
      "---------------------------------------------------\n"
     ]
    }
   ],
   "source": [
    "mc1 = multi.MultiComparison(sub3['col14'], sub3['col8'])\n",
    "res1 = mc1.tukeyhsd()\n",
    "print(res1.summary())"
   ]
  },
  {
   "cell_type": "code",
   "execution_count": 50,
   "id": "c2611690-b026-44f3-8bf8-e21f7832352f",
   "metadata": {},
   "outputs": [
    {
     "data": {
      "text/plain": [
       "Text(9.444444444444445, 0.5, 'Dificuldade para concentrar')"
      ]
     },
     "execution_count": 50,
     "metadata": {},
     "output_type": "execute_result"
    },
    {
     "data": {
      "image/png": "[encoded data removed]",
      "text/plain": [
       "<Figure size 500x500 with 1 Axes>"
      ]
     },
     "metadata": {},
     "output_type": "display_data"
    }
   ],
   "source": [
    "seaborn.catplot(x='col8', y='col14', data=sub3, kind=\"bar\", errorbar=None)\n",
    "plt.xlabel('Tempo de uso de redes sociais')\n",
    "plt.ylabel('Dificuldade para concentrar')"
   ]
  },
  {
   "cell_type": "markdown",
   "id": "b60437e5-2d96-4074-9100-1594bb63fb61",
   "metadata": {},
   "source": [
    "<h3>Conclusão</h3>\n",
    "\n",
    "* O grupo 1 comparado com todos os outros grupos mostram diferenças médias estatisticamente significativas.\n",
    "\n",
    "* O grupo 2 comparado com todos os outros grupos, com exceção do grupo 3, mostram diferenças médias estatisticamente significativas.\n",
    "\n",
    "* **Podemos concluir que as pessoas do grupo 1 (Menos de uma hora) e do grupo 2 (Entre 1 e 2 horas) possuem mais facilidades para se concentrar do que os \n",
    "grupo 4 (Entre 3 e 4 horas), grupo 5 (Entre 4 e 5 horas) e o grupo 6 (Mais de 5 horas)**\n",
    "\n",
    "* **Ou seja, de acordo com os resultados dessa pesquisa o uso excessivo de redes sociais causa uma dificuldade para se concentrar**"
   ]
  },
  {
   "cell_type": "markdown",
   "id": "0250f67d-8c3f-430b-b893-dd7d007f063b",
   "metadata": {},
   "source": [
    "<h3>Agora, iremos analisar a coluna 8 com a coluna 15</h3>\n",
    "\n",
    "## Questão de pesquisa\n",
    "\n",
    "    O tempo que se passa em redes sociais está associada a frequencia que você se compara com os outros online?\n",
    "\n",
    "### População de jovens e adultos \n",
    "\n",
    "### Variáveis\n",
    "\n",
    "*    **Variável Categorica:** Qual a quantidade tempo que você passa em redes sociais\n",
    "\n",
    "*    **Variavel numérica:** O quanto você se comprara com pessoas online? (pergunta de 1 a 5)\n",
    "\n",
    "### Hipóteses\n",
    "\n",
    "*    **Hipótese Nula:** Não há relação entre o uso excessivo de redes sociais e a frequência que quanto você se comprara com pessoas online\n",
    "\n",
    "*    **Hipótese Alternativa:** Há relação entre o uso excessivo de redes sociais e a frequência você se comprara com pessoas online"
   ]
  },
  {
   "cell_type": "code",
   "execution_count": 5,
   "id": "a2b80dde-f73e-4c0b-8676-4e28943c1522",
   "metadata": {},
   "outputs": [
    {
     "name": "stdout",
     "output_type": "stream",
     "text": [
      "                            OLS Regression Results                            \n",
      "==============================================================================\n",
      "Dep. Variable:                  col15   R-squared:                       0.053\n",
      "Model:                            OLS   Adj. R-squared:                  0.043\n",
      "Method:                 Least Squares   F-statistic:                     5.268\n",
      "Date:                Wed, 29 Nov 2023   Prob (F-statistic):           0.000101\n",
      "Time:                        02:26:10   Log-Likelihood:                -833.56\n",
      "No. Observations:                 481   AIC:                             1679.\n",
      "Df Residuals:                     475   BIC:                             1704.\n",
      "Df Model:                           5                                         \n",
      "Covariance Type:            nonrobust                                         \n",
      "================================================================================\n",
      "                   coef    std err          t      P>|t|      [0.025      0.975]\n",
      "--------------------------------------------------------------------------------\n",
      "Intercept        2.1471      0.236      9.088      0.000       1.683       2.611\n",
      "C(col8)[T.2]     0.2958      0.288      1.027      0.305      -0.270       0.862\n",
      "C(col8)[T.3]     0.4767      0.273      1.745      0.082      -0.060       1.013\n",
      "C(col8)[T.4]     1.0035      0.276      3.635      0.000       0.461       1.546\n",
      "C(col8)[T.5]     0.8828      0.290      3.043      0.002       0.313       1.453\n",
      "C(col8)[T.6]     0.9305      0.269      3.464      0.001       0.403       1.458\n",
      "==============================================================================\n",
      "Omnibus:                      241.293   Durbin-Watson:                   1.868\n",
      "Prob(Omnibus):                  0.000   Jarque-Bera (JB):               29.131\n",
      "Skew:                           0.154   Prob(JB):                     4.72e-07\n",
      "Kurtosis:                       1.834   Cond. No.                         10.3\n",
      "==============================================================================\n",
      "\n",
      "Notes:\n",
      "[1] Standard Errors assume that the covariance matrix of the errors is correctly specified.\n"
     ]
    }
   ],
   "source": [
    "sub3 = data[['col8', 'col15']].dropna()\n",
    "\n",
    "model2 = smf.ols(formula='col15~ C(col8)', data=sub3).fit()\n",
    "print (model2.summary())"
   ]
  },
  {
   "cell_type": "code",
   "execution_count": 6,
   "id": "1839a79e-889e-48d0-b9c3-81604fbba559",
   "metadata": {},
   "outputs": [
    {
     "name": "stdout",
     "output_type": "stream",
     "text": [
      "Multiple Comparison of Means - Tukey HSD, FWER=0.05\n",
      "===================================================\n",
      "group1 group2 meandiff p-adj   lower  upper  reject\n",
      "---------------------------------------------------\n",
      "     1      2   0.2958 0.9087 -0.5282 1.1198  False\n",
      "     1      3   0.4767 0.5024 -0.3048 1.2582  False\n",
      "     1      4   1.0035 0.0042  0.2135 1.7934   True\n",
      "     1      5   0.8828 0.0296  0.0528 1.7128   True\n",
      "     1      6   0.9305 0.0076  0.1618 1.6992   True\n",
      "     2      3   0.1809  0.959 -0.4321 0.7939  False\n",
      "     2      4   0.7077 0.0157   0.084 1.3314   True\n",
      "     2      5    0.587 0.1281 -0.0867 1.2607  False\n",
      "     2      6   0.6347 0.0295  0.0382 1.2313   True\n",
      "     3      4   0.5268 0.0852 -0.0397 1.0933  False\n",
      "     3      5   0.4061 0.4214  -0.215 1.0272  False\n",
      "     3      6   0.4538 0.1511 -0.0826 0.9903  False\n",
      "     4      5  -0.1207 0.9942 -0.7523 0.5109  False\n",
      "     4      6   -0.073  0.999 -0.6216 0.4757  False\n",
      "     5      6   0.0477 0.9999 -0.5571 0.6526  False\n",
      "---------------------------------------------------\n"
     ]
    }
   ],
   "source": [
    "mc1 = multi.MultiComparison(sub3['col15'], sub3['col8'])\n",
    "res1 = mc1.tukeyhsd()\n",
    "print(res1.summary())"
   ]
  },
  {
   "cell_type": "code",
   "execution_count": 8,
   "id": "f34c78a6-7c93-4222-aa6a-7fb6710cd3d8",
   "metadata": {},
   "outputs": [
    {
     "data": {
      "text/plain": [
       "Text(9.444444444444445, 0.5, 'Maior compração')"
      ]
     },
     "execution_count": 8,
     "metadata": {},
     "output_type": "execute_result"
    },
    {
     "data": {
      "image/png": "[encoded data removed]",
      "text/plain": [
       "<Figure size 500x500 with 1 Axes>"
      ]
     },
     "metadata": {},
     "output_type": "display_data"
    }
   ],
   "source": [
    "seaborn.catplot(x='col8', y='col15', data=sub3, kind=\"bar\", errorbar=None)\n",
    "plt.xlabel('Tempo de uso de redes sociais')\n",
    "plt.ylabel('Maior compração')"
   ]
  },
  {
   "cell_type": "markdown",
   "id": "5676a208-aff2-430b-a6fa-7ee23c148bc8",
   "metadata": {},
   "source": [
    "<h3>Conclusão</h3>\n",
    "\n",
    "* O grupo 1 (Menos de uma hora) comparado com o grupo 5 (Entre 4 e 5 horas) e com o grupo 6 (Mais de 5 horas) mostram diferenças \n",
    "médias estatisticamente significativas\n",
    "\n",
    "* E o grupo 2 (Entre 1 e 2 horas) comparado com o grupo 4 (Entre 3 e 4 horas) e com o grupo 6 (Mais de 5 horas) mostram diferenças \n",
    "médias estatisticamente significativas\n",
    "\n",
    "* **Em resumo, o resultado indica que o uso excessivo de redes sociais está associado a uma maior tendência de se comparar com pessoas mais bem sucedidas, em comparação com aqueles que passam menos tempo. No entanto, não há diferenças significativas entre os grupos de tempo mais longo. Essa associação pode sugerir uma possível relação entre o uso prolongado de redes sociais e questões de autoestima.**"
   ]
  },
  {
   "cell_type": "markdown",
   "id": "d2efd8f4-2942-43c6-99b4-619b838a573c",
   "metadata": {},
   "source": [
    "<h3>Agora, iremos analisar a coluna 8 com a coluna 17</h3>\n",
    "\n",
    "## Questão de pesquisa\n",
    "\n",
    "    O tempo que se passa em redes sociais está associada a uma maior busca por validação online?\n",
    "\n",
    "### População de jovens e adultos \n",
    "\n",
    "### Variáveis\n",
    "\n",
    "*    **Variável Categorica:** Qual a quantidade tempo que você passa em redes sociais\n",
    "\n",
    "*    **Variavel numérica:** Com que frequência você busca validação de recursos de mídia social? (pergunta de 1 a 5)\n",
    "\n",
    "### Hipóteses\n",
    "\n",
    "*    **Hipótese Nula:** Não há relação entre o uso excessivo de redes sociais e a frequência que você busca validação de recursos de mídia social.\n",
    "\n",
    "*    **Hipótese Alternativa:** Há relação entre o uso excessivo de redes sociais e a frequência que você busca validação de recursos de mídia social."
   ]
  },
  {
   "cell_type": "code",
   "execution_count": 58,
   "id": "afe33cfe-a2b6-492f-9be0-0491b07ab8d0",
   "metadata": {},
   "outputs": [
    {
     "name": "stdout",
     "output_type": "stream",
     "text": [
      "                            OLS Regression Results                            \n",
      "==============================================================================\n",
      "Dep. Variable:                  col17   R-squared:                       0.014\n",
      "Model:                            OLS   Adj. R-squared:                  0.004\n",
      "Method:                 Least Squares   F-statistic:                     1.386\n",
      "Date:                Wed, 29 Nov 2023   Prob (F-statistic):              0.228\n",
      "Time:                        19:31:13   Log-Likelihood:                -784.99\n",
      "No. Observations:                 481   AIC:                             1582.\n",
      "Df Residuals:                     475   BIC:                             1607.\n",
      "Df Model:                           5                                         \n",
      "Covariance Type:            nonrobust                                         \n",
      "================================================================================\n",
      "                   coef    std err          t      P>|t|      [0.025      0.975]\n",
      "--------------------------------------------------------------------------------\n",
      "Intercept        2.0588      0.214      9.641      0.000       1.639       2.478\n",
      "C(col8)[T.2]     0.2555      0.260      0.981      0.327      -0.256       0.767\n",
      "C(col8)[T.3]     0.3966      0.247      1.606      0.109      -0.089       0.882\n",
      "C(col8)[T.4]     0.3605      0.250      1.445      0.149      -0.130       0.851\n",
      "C(col8)[T.5]     0.5382      0.262      2.053      0.041       0.023       1.053\n",
      "C(col8)[T.6]     0.5446      0.243      2.243      0.025       0.067       1.022\n",
      "==============================================================================\n",
      "Omnibus:                       83.020   Durbin-Watson:                   1.951\n",
      "Prob(Omnibus):                  0.000   Jarque-Bera (JB):               26.059\n",
      "Skew:                           0.315   Prob(JB):                     2.19e-06\n",
      "Kurtosis:                       2.049   Cond. No.                         10.3\n",
      "==============================================================================\n",
      "\n",
      "Notes:\n",
      "[1] Standard Errors assume that the covariance matrix of the errors is correctly specified.\n"
     ]
    }
   ],
   "source": [
    "sub3 = data[['col8', 'col17']].dropna()\n",
    "\n",
    "model2 = smf.ols(formula='col17~ C(col8)', data=sub3).fit()\n",
    "print (model2.summary())"
   ]
  },
  {
   "cell_type": "code",
   "execution_count": 59,
   "id": "5e2ebd79-3fb1-4570-bdf6-b381bd3bb082",
   "metadata": {},
   "outputs": [
    {
     "name": "stdout",
     "output_type": "stream",
     "text": [
      "Multiple Comparison of Means - Tukey HSD, FWER=0.05\n",
      "===================================================\n",
      "group1 group2 meandiff p-adj   lower  upper  reject\n",
      "---------------------------------------------------\n",
      "     1      2   0.2555 0.9238 -0.4894 1.0003  False\n",
      "     1      3   0.3966 0.5947 -0.3099 1.1031  False\n",
      "     1      4   0.3605 0.6996 -0.3536 1.0746  False\n",
      "     1      5   0.5382 0.3143 -0.2121 1.2885  False\n",
      "     1      6   0.5446 0.2203 -0.1502 1.2395  False\n",
      "     2      3   0.1412 0.9783  -0.413 0.6953  False\n",
      "     2      4   0.1051 0.9948 -0.4587 0.6689  False\n",
      "     2      5   0.2827 0.7691 -0.3263 0.8917  False\n",
      "     2      6   0.2892 0.6422 -0.2501 0.8284  False\n",
      "     3      4  -0.0361    1.0 -0.5482  0.476  False\n",
      "     3      5   0.1416 0.9793 -0.4198  0.703  False\n",
      "     3      6    0.148 0.9527 -0.3369 0.6329  False\n",
      "     4      5   0.1777 0.9488 -0.3933 0.7486  False\n",
      "     4      6   0.1841 0.8961 -0.3118   0.68  False\n",
      "     5      6   0.0064    1.0 -0.5403 0.5532  False\n",
      "---------------------------------------------------\n"
     ]
    }
   ],
   "source": [
    "mc1 = multi.MultiComparison(sub3['col17'], sub3['col8'])\n",
    "res1 = mc1.tukeyhsd()\n",
    "print(res1.summary())"
   ]
  },
  {
   "cell_type": "code",
   "execution_count": 60,
   "id": "3f998cd9-98dc-41e1-bf80-d900ea8591c6",
   "metadata": {},
   "outputs": [
    {
     "data": {
      "text/plain": [
       "Text(9.444444444444445, 0.5, 'Maior compração')"
      ]
     },
     "execution_count": 60,
     "metadata": {},
     "output_type": "execute_result"
    },
    {
     "data": {
      "image/png": "[encoded data removed]",
      "text/plain": [
       "<Figure size 500x500 with 1 Axes>"
      ]
     },
     "metadata": {},
     "output_type": "display_data"
    }
   ],
   "source": [
    "seaborn.catplot(x='col8', y='col17', data=sub3, kind=\"bar\", errorbar=None)\n",
    "plt.xlabel('Tempo de uso de redes sociais')\n",
    "plt.ylabel('Maior compração')"
   ]
  },
  {
   "cell_type": "markdown",
   "id": "cad84366-fe87-47f5-b728-11828aaf0efb",
   "metadata": {},
   "source": [
    "<h3>Conclusão</h3>\n",
    "\n",
    "* **Em resumo, com base nesta análise específica, não há evidências estatísticas para apoiar a ideia de que o tempo gasto em redes sociais está diretamente relacionado à busca por validação online.**"
   ]
  },
  {
   "cell_type": "markdown",
   "id": "0f02af02-cccd-4b6a-9ec1-3faa1b05faa7",
   "metadata": {},
   "source": [
    "<h3>Agora, iremos analisar a coluna 8 com a coluna 18</h3>\n",
    "\n",
    "## Questão de pesquisa\n",
    "\n",
    "    O tempo que se passa em redes sociais está associada a um maior sentimento de depressão?\n",
    "\n",
    "### População de jovens e adultos \n",
    "\n",
    "### Variáveis\n",
    "\n",
    "*    **Variável Categorica:** Qual a quantidade tempo que você passa em redes sociais\n",
    "\n",
    "*    **Variavel numérica:**  Com que frequência você se sente deprimido ou pra baixo?(pergunta de 1 a 5)\n",
    "\n",
    "### Hipóteses\n",
    "\n",
    "*    **Hipótese Nula:** Não há relação entre o uso excessivo de redes sociais e  um maior sentimento de depressão\n",
    "\n",
    "*    **Hipótese Alternativa:** Há relação entre o uso excessivo de redes sociais e  um maior sentimento de depressão"
   ]
  },
  {
   "cell_type": "code",
   "execution_count": 14,
   "id": "75d5b487-d82c-48d9-9775-23c0bd2f585c",
   "metadata": {},
   "outputs": [
    {
     "name": "stdout",
     "output_type": "stream",
     "text": [
      "                            OLS Regression Results                            \n",
      "==============================================================================\n",
      "Dep. Variable:                  col18   R-squared:                       0.124\n",
      "Model:                            OLS   Adj. R-squared:                  0.115\n",
      "Method:                 Least Squares   F-statistic:                     13.46\n",
      "Date:                Wed, 29 Nov 2023   Prob (F-statistic):           2.73e-12\n",
      "Time:                        02:37:02   Log-Likelihood:                -781.14\n",
      "No. Observations:                 481   AIC:                             1574.\n",
      "Df Residuals:                     475   BIC:                             1599.\n",
      "Df Model:                           5                                         \n",
      "Covariance Type:            nonrobust                                         \n",
      "================================================================================\n",
      "                   coef    std err          t      P>|t|      [0.025      0.975]\n",
      "--------------------------------------------------------------------------------\n",
      "Intercept        2.0000      0.212      9.440      0.000       1.584       2.416\n",
      "C(col8)[T.2]     0.8000      0.258      3.098      0.002       0.293       1.307\n",
      "C(col8)[T.3]     1.1782      0.245      4.810      0.000       0.697       1.659\n",
      "C(col8)[T.4]     1.3656      0.248      5.516      0.000       0.879       1.852\n",
      "C(col8)[T.5]     1.4478      0.260      5.566      0.000       0.937       1.959\n",
      "C(col8)[T.6]     1.7672      0.241      7.336      0.000       1.294       2.241\n",
      "==============================================================================\n",
      "Omnibus:                       27.319   Durbin-Watson:                   2.013\n",
      "Prob(Omnibus):                  0.000   Jarque-Bera (JB):               12.717\n",
      "Skew:                          -0.178   Prob(JB):                      0.00173\n",
      "Kurtosis:                       2.287   Cond. No.                         10.3\n",
      "==============================================================================\n",
      "\n",
      "Notes:\n",
      "[1] Standard Errors assume that the covariance matrix of the errors is correctly specified.\n"
     ]
    }
   ],
   "source": [
    "sub3 = data[['col8', 'col18']].dropna()\n",
    "\n",
    "model2 = smf.ols(formula='col18~ C(col8)', data=sub3).fit()\n",
    "print (model2.summary())"
   ]
  },
  {
   "cell_type": "code",
   "execution_count": 16,
   "id": "367f75ca-a8d1-4351-b95d-12ebb1ed39fe",
   "metadata": {},
   "outputs": [
    {
     "name": "stdout",
     "output_type": "stream",
     "text": [
      "Multiple Comparison of Means - Tukey HSD, FWER=0.05\n",
      "===================================================\n",
      "group1 group2 meandiff p-adj   lower  upper  reject\n",
      "---------------------------------------------------\n",
      "     1      2      0.8 0.0251  0.0611 1.5389   True\n",
      "     1      3   1.1782    0.0  0.4774 1.8791   True\n",
      "     1      4   1.3656    0.0  0.6572  2.074   True\n",
      "     1      5   1.4478    0.0  0.7035  2.192   True\n",
      "     1      6   1.7672    0.0  1.0779 2.4566   True\n",
      "     2      3   0.3782  0.362 -0.1715 0.9279  False\n",
      "     2      4   0.5656 0.0457  0.0063 1.1249   True\n",
      "     2      5   0.6478 0.0275  0.0436 1.2519   True\n",
      "     2      6   0.9672    0.0  0.4323 1.5022   True\n",
      "     3      4   0.1874 0.8986 -0.3206 0.6954  False\n",
      "     3      5   0.2695 0.7362 -0.2874 0.8265  False\n",
      "     3      6    0.589 0.0066   0.108 1.0701   True\n",
      "     4      5   0.0822 0.9984 -0.4842 0.6486  False\n",
      "     4      6   0.4016 0.1818 -0.0903 0.8936  False\n",
      "     5      6   0.3195 0.5421 -0.2229 0.8619  False\n",
      "---------------------------------------------------\n"
     ]
    }
   ],
   "source": [
    "mc1 = multi.MultiComparison(sub3['col18'], sub3['col8'])\n",
    "res1 = mc1.tukeyhsd()\n",
    "print(res1.summary())"
   ]
  },
  {
   "cell_type": "code",
   "execution_count": 18,
   "id": "7b110f74-4d51-449d-beb3-95d7ab882115",
   "metadata": {},
   "outputs": [
    {
     "data": {
      "text/plain": [
       "Text(9.444444444444445, 0.5, 'Maior sentimento de depressão')"
      ]
     },
     "execution_count": 18,
     "metadata": {},
     "output_type": "execute_result"
    },
    {
     "data": {
      "image/png": "[encoded data removed]",
      "text/plain": [
       "<Figure size 500x500 with 1 Axes>"
      ]
     },
     "metadata": {},
     "output_type": "display_data"
    }
   ],
   "source": [
    "seaborn.catplot(x='col8', y='col18', data=sub3, kind=\"bar\", errorbar=None)\n",
    "plt.xlabel('Tempo de uso de redes sociais')\n",
    "plt.ylabel('Maior sentimento de depressão')"
   ]
  },
  {
   "cell_type": "markdown",
   "id": "d7e9842e-56df-41e5-9857-d58c6a60ee40",
   "metadata": {},
   "source": [
    "<h3>Conclusão</h3>\n",
    "\n",
    "* O grupo 1 (Menos de uma hora) comparado com todos os outros grupos mostram diferenças médias estatisticamente significativas.\n",
    "\n",
    "* O grupo 2 (Entre 1 e 2 horas) comparado com todos os outros grupos, com excessão do grupo 3 (Entre 2 e 3 horas) mostram diferenças médias estatisticamente significativas.\n",
    "\n",
    "* Há uma diferença significativa entre o grupo 3 (Entre 2 e 3 horas) e o grupo 6 (Mais de 5 horas)\n",
    "\n",
    "*  **Pode-se concluir, com base nesta análise específica, há evidências estatísticas para sugerir que o tempo gasto em redes sociais está associado a um maior sentimento de depressão. Especificamente, indivíduos que passam diferentes quantidades de tempo em redes sociais podem experimentar níveis significativamente diferentes de sentimento de depressão.**\n",
    "\n",
    "*  **Ou seja, de acordo com os resultados o uso excessivo de redes sociais está ligada a um maior sentimento de depressão**\n"
   ]
  },
  {
   "cell_type": "markdown",
   "id": "3c3adb56-f543-404e-b37f-bd0660a91136",
   "metadata": {},
   "source": [
    "<h3>Agora, iremos analisar a coluna 8 com a coluna 19</h3>\n",
    "\n",
    "## Questão de pesquisa\n",
    "\n",
    "    O tempo que se passa em redes sociais está associada a uma maior oscilação no seu interesse nas atividades diárias?\n",
    "\n",
    "### População de jovens e adultos \n",
    "\n",
    "### Variáveis\n",
    "\n",
    "*    **Variável Categorica:** Qual a quantidade tempo que você passa em redes sociais\n",
    "\n",
    "*    **Variavel numérica:** Numa escala de 1 a 5, com que frequência oscila o seu interesse nas atividades diárias?\n",
    "\n",
    "### Hipóteses\n",
    "\n",
    "*    **Hipótese Nula:** Não há relação entre o uso excessivo de redes sociais e uma maior oscilação no seu interesse nas atividades diárias\n",
    "\n",
    "*    **Hipótese Alternativa:** Há relação entre o uso excessivo de redes sociais e uma maior oscilação no seu interesse nas atividades diárias"
   ]
  },
  {
   "cell_type": "code",
   "execution_count": 23,
   "id": "bdc705bb-77fc-44e8-b4c6-ea94b57942b3",
   "metadata": {},
   "outputs": [
    {
     "name": "stdout",
     "output_type": "stream",
     "text": [
      "                            OLS Regression Results                            \n",
      "==============================================================================\n",
      "Dep. Variable:                  col19   R-squared:                       0.101\n",
      "Model:                            OLS   Adj. R-squared:                  0.092\n",
      "Method:                 Least Squares   F-statistic:                     10.70\n",
      "Date:                Wed, 29 Nov 2023   Prob (F-statistic):           9.35e-10\n",
      "Time:                        02:48:03   Log-Likelihood:                -766.24\n",
      "No. Observations:                 481   AIC:                             1544.\n",
      "Df Residuals:                     475   BIC:                             1570.\n",
      "Df Model:                           5                                         \n",
      "Covariance Type:            nonrobust                                         \n",
      "================================================================================\n",
      "                   coef    std err          t      P>|t|      [0.025      0.975]\n",
      "--------------------------------------------------------------------------------\n",
      "Intercept        2.1176      0.205     10.310      0.000       1.714       2.521\n",
      "C(col8)[T.2]     0.6824      0.250      2.726      0.007       0.190       1.174\n",
      "C(col8)[T.3]     0.8923      0.237      3.757      0.000       0.426       1.359\n",
      "C(col8)[T.4]     1.2910      0.240      5.379      0.000       0.819       1.763\n",
      "C(col8)[T.5]     1.1510      0.252      4.564      0.000       0.655       1.647\n",
      "C(col8)[T.6]     1.4772      0.234      6.325      0.000       1.018       1.936\n",
      "==============================================================================\n",
      "Omnibus:                       39.887   Durbin-Watson:                   1.948\n",
      "Prob(Omnibus):                  0.000   Jarque-Bera (JB):               13.639\n",
      "Skew:                          -0.070   Prob(JB):                      0.00109\n",
      "Kurtosis:                       2.187   Cond. No.                         10.3\n",
      "==============================================================================\n",
      "\n",
      "Notes:\n",
      "[1] Standard Errors assume that the covariance matrix of the errors is correctly specified.\n"
     ]
    }
   ],
   "source": [
    "sub3 = data[['col8', 'col19']].dropna()\n",
    "\n",
    "model2 = smf.ols(formula='col19~ C(col8)', data=sub3).fit()\n",
    "print (model2.summary())"
   ]
  },
  {
   "cell_type": "code",
   "execution_count": 25,
   "id": "7ec6b34c-4ef8-4cf5-bcf4-0f5ee9db2769",
   "metadata": {},
   "outputs": [
    {
     "name": "stdout",
     "output_type": "stream",
     "text": [
      "Multiple Comparison of Means - Tukey HSD, FWER=0.05\n",
      "===================================================\n",
      "group1 group2 meandiff p-adj   lower  upper  reject\n",
      "---------------------------------------------------\n",
      "     1      2   0.6824 0.0721  -0.034 1.3987  False\n",
      "     1      3   0.8923 0.0026  0.2128 1.5717   True\n",
      "     1      4    1.291    0.0  0.6042 1.9777   True\n",
      "     1      5    1.151 0.0001  0.4294 1.8726   True\n",
      "     1      6   1.4772    0.0  0.8089 2.1455   True\n",
      "     2      3   0.2099 0.8701 -0.3231 0.7429  False\n",
      "     2      4   0.6086 0.0176  0.0663 1.1509   True\n",
      "     2      5   0.4687 0.2003  -0.117 1.0544  False\n",
      "     2      6   0.7948 0.0002  0.2762 1.3135   True\n",
      "     3      4   0.3987 0.1894 -0.0938 0.8912  False\n",
      "     3      5   0.2588 0.7443 -0.2812 0.7987  False\n",
      "     3      6   0.5849 0.0049  0.1185 1.0513   True\n",
      "     4      5  -0.1399 0.9783 -0.6891 0.4092  False\n",
      "     4      6   0.1862 0.8742 -0.2908 0.6632  False\n",
      "     5      6   0.3262 0.4831 -0.1997  0.852  False\n",
      "---------------------------------------------------\n"
     ]
    }
   ],
   "source": [
    "mc1 = multi.MultiComparison(sub3['col19'], sub3['col8'])\n",
    "res1 = mc1.tukeyhsd()\n",
    "print(res1.summary())"
   ]
  },
  {
   "cell_type": "code",
   "execution_count": 26,
   "id": "c309a17e-c793-46f0-943e-dbdb95111915",
   "metadata": {},
   "outputs": [
    {
     "data": {
      "text/plain": [
       "Text(9.444444444444445, 0.5, 'Oscila interesses')"
      ]
     },
     "execution_count": 26,
     "metadata": {},
     "output_type": "execute_result"
    },
    {
     "data": {
      "image/png": "[encoded data removed]",
      "text/plain": [
       "<Figure size 500x500 with 1 Axes>"
      ]
     },
     "metadata": {},
     "output_type": "display_data"
    }
   ],
   "source": [
    "seaborn.catplot(x='col8', y='col19', data=sub3, kind=\"bar\", errorbar=None)\n",
    "plt.xlabel('Tempo de uso de redes sociais')\n",
    "plt.ylabel('Oscila interesses')"
   ]
  },
  {
   "cell_type": "markdown",
   "id": "76b13ba6-4c95-47cd-bf29-70e963de3dea",
   "metadata": {},
   "source": [
    "<h3>Conclusão</h3>\n",
    "\n",
    "* O grupo 1 (Menos de uma hora) comparado com todos os outros grupos, com excessão do grupo 2 (Entre 1 e 2 horas) mostram diferenças médias estatisticamente significativas.\n",
    "\n",
    "* O grupo 1 (Entre 1 e 2 horas)) comparado com todos os outros grupos, com excessão do grupo 3 (Entre 2 e 3 horas) mostram diferenças médias estatisticamente significativas.\n",
    "\n",
    "* Tambem há uma diferença média entre o grupo 3 (Emte 2 e 3 horas) e o grupo 6 (Mais de 5 horas)\n",
    "\n",
    "*  **Pode-se concluir, com base nesta análise específica, há evidências estatísticas para sugerir que o tempo gasto em redes sociais está associado a uma maior oscilação no interesse nas atividades diárias.**\n",
    "\n",
    "* ** **"
   ]
  },
  {
   "cell_type": "markdown",
   "id": "f83fe2f1-993a-49bc-af8b-5e1e84c2aaf0",
   "metadata": {},
   "source": [
    "<h3>Por último, iremos analisar a coluna 8 com a coluna 20</h3>\n",
    "\n",
    "## Questão de pesquisa\n",
    "\n",
    "    O tempo que se passa em redes sociais está associada a problemas durante o sono?\n",
    "\n",
    "### População de jovens e adultos \n",
    "\n",
    "### Variáveis\n",
    "\n",
    "*    **Variável Categorica:** Qual a quantidade tempo que você passa em redes sociais\n",
    "\n",
    "*    **Variavel numérica:** Numa escala de 1 a 5, com que frequência você enfrenta problemas relacionados ao sono?\n",
    "\n",
    "### Hipóteses\n",
    "\n",
    "*    **Hipótese Nula:** Não há relação entre o uso excessivo de redes sociais e a frequência que se tem problemas relacionados ao sono.\n",
    "\n",
    "*    **Hipótese Alternativa:** Há relação entre o uso excessivo de redes sociais e a frequência que se tem problemas relacionados ao sono."
   ]
  },
  {
   "cell_type": "code",
   "execution_count": 27,
   "id": "c1c5a823-d91c-44d2-a7a7-6b630f88520c",
   "metadata": {},
   "outputs": [
    {
     "name": "stdout",
     "output_type": "stream",
     "text": [
      "                            OLS Regression Results                            \n",
      "==============================================================================\n",
      "Dep. Variable:                  col20   R-squared:                       0.034\n",
      "Model:                            OLS   Adj. R-squared:                  0.024\n",
      "Method:                 Least Squares   F-statistic:                     3.314\n",
      "Date:                Wed, 29 Nov 2023   Prob (F-statistic):            0.00595\n",
      "Time:                        11:48:59   Log-Likelihood:                -856.32\n",
      "No. Observations:                 481   AIC:                             1725.\n",
      "Df Residuals:                     475   BIC:                             1750.\n",
      "Df Model:                           5                                         \n",
      "Covariance Type:            nonrobust                                         \n",
      "================================================================================\n",
      "                   coef    std err          t      P>|t|      [0.025      0.975]\n",
      "--------------------------------------------------------------------------------\n",
      "Intercept        2.5588      0.248     10.330      0.000       2.072       3.046\n",
      "C(col8)[T.2]     0.3126      0.302      1.035      0.301      -0.281       0.906\n",
      "C(col8)[T.3]     0.5600      0.286      1.955      0.051      -0.003       1.123\n",
      "C(col8)[T.4]     0.7207      0.289      2.490      0.013       0.152       1.290\n",
      "C(col8)[T.5]     0.9039      0.304      2.972      0.003       0.306       1.501\n",
      "C(col8)[T.6]     0.8895      0.282      3.158      0.002       0.336       1.443\n",
      "==============================================================================\n",
      "Omnibus:                      630.691   Durbin-Watson:                   1.905\n",
      "Prob(Omnibus):                  0.000   Jarque-Bera (JB):               35.869\n",
      "Skew:                          -0.182   Prob(JB):                     1.63e-08\n",
      "Kurtosis:                       1.713   Cond. No.                         10.3\n",
      "==============================================================================\n",
      "\n",
      "Notes:\n",
      "[1] Standard Errors assume that the covariance matrix of the errors is correctly specified.\n"
     ]
    }
   ],
   "source": [
    "sub3 = data[['col8', 'col20']].dropna()\n",
    "\n",
    "model2 = smf.ols(formula='col20~ C(col8)', data=sub3).fit()\n",
    "print (model2.summary())"
   ]
  },
  {
   "cell_type": "code",
   "execution_count": 28,
   "id": "0eef33dd-b7d5-4181-8e87-d1fafb2672f4",
   "metadata": {},
   "outputs": [
    {
     "name": "stdout",
     "output_type": "stream",
     "text": [
      "Multiple Comparison of Means - Tukey HSD, FWER=0.05\n",
      "===================================================\n",
      "group1 group2 meandiff p-adj   lower  upper  reject\n",
      "---------------------------------------------------\n",
      "     1      2   0.3126 0.9058 -0.5513 1.1765  False\n",
      "     1      3     0.56 0.3698 -0.2594 1.3794  False\n",
      "     1      4   0.7207 0.1291 -0.1075  1.549  False\n",
      "     1      5   0.9039 0.0365  0.0337 1.7741   True\n",
      "     1      6   0.8895 0.0208  0.0835 1.6954   True\n",
      "     2      3   0.2474 0.8808 -0.3953 0.8901  False\n",
      "     2      4   0.4081 0.4759 -0.2458 1.0621  False\n",
      "     2      5   0.5913 0.1599 -0.1151 1.2976  False\n",
      "     2      6   0.5768 0.0901 -0.0486 1.2023  False\n",
      "     3      4   0.1608 0.9717 -0.4332 0.7547  False\n",
      "     3      5   0.3439 0.6573 -0.3073  0.995  False\n",
      "     3      6   0.3295 0.5483  -0.233 0.8919  False\n",
      "     4      5   0.1831  0.969 -0.4791 0.8454  False\n",
      "     4      6   0.1687   0.96 -0.4065 0.7439  False\n",
      "     5      6  -0.0144    1.0 -0.6486 0.6198  False\n",
      "---------------------------------------------------\n"
     ]
    }
   ],
   "source": [
    "mc1 = multi.MultiComparison(sub3['col20'], sub3['col8'])\n",
    "res1 = mc1.tukeyhsd()\n",
    "print(res1.summary())"
   ]
  },
  {
   "cell_type": "code",
   "execution_count": 30,
   "id": "e27b6465-8c57-4c10-8865-b6c01eecac01",
   "metadata": {},
   "outputs": [
    {
     "data": {
      "text/plain": [
       "Text(9.444444444444445, 0.5, 'Problemas durante o sono')"
      ]
     },
     "execution_count": 30,
     "metadata": {},
     "output_type": "execute_result"
    },
    {
     "data": {
      "image/png": "[encoded data removed]",
      "text/plain": [
       "<Figure size 500x500 with 1 Axes>"
      ]
     },
     "metadata": {},
     "output_type": "display_data"
    }
   ],
   "source": [
    "seaborn.catplot(x='col8', y='col20', data=sub3, kind=\"bar\", errorbar=None)\n",
    "plt.xlabel('Tempo de uso de redes sociais')\n",
    "plt.ylabel('Problemas durante o sono')"
   ]
  },
  {
   "cell_type": "markdown",
   "id": "7a983101-a502-4fa9-8d92-da6a1a5f792c",
   "metadata": {},
   "source": [
    "<h3>Conclusão</h3>\n",
    "\n",
    "* os grupos 5 (Entre 4 e 5 horas) e 6 (Mais de 5 horas) mostram diferenças significativas em relação ao grupo 1 (Menos de uma hora).\n",
    "\n",
    "* **Esses resultados levam-nos a rejeitar a hipótese nula de que não há relação entre o uso excessivo de redes sociais e a frequência de problemas relacionados ao sono. Em vez disso, há indícios estatísticos de que as médias desses grupos são diferentes, sugerindo que o tempo gasto em redes sociais pode estar associado a uma maior frequência de problemas de sono, especialmente nos grupos que relatam passar mais de 4 horas online.**"
   ]
  },
  {
   "cell_type": "code",
   "execution_count": 97,
   "id": "3883b5e7-7df2-489e-82fa-d2ec4b4c5926",
   "metadata": {},
   "outputs": [
    {
     "data": {
      "image/png": "[encoded data removed]",
      "text/plain": [
       "<Figure size 800x1500 with 5 Axes>"
      ]
     },
     "metadata": {},
     "output_type": "display_data"
    }
   ],
   "source": [
    "## Somando as pontuações das perguntas sobre foco, ansiedade, autoestima e depressão e criando uma nova coluna\n",
    "Foco = ['col9', 'col10', 'col12', 'col14']\n",
    "data['Foco_Pontuacao'] = data[Foco].sum(axis=1)\n",
    "\n",
    "Ansiedade = ['col11', 'col13']\n",
    "data['Ansiedade_Pontuacao'] = data[Ansiedade].sum(axis=1)\n",
    "\n",
    "Autoestima = ['col15', 'col16','col17']\n",
    "data['Autoestima_Pontuacao'] = data[Autoestima].sum(axis=1)\n",
    "\n",
    "Depressao = ['col18', 'col19','col20']\n",
    "data['Depressao_Pontuacao'] = data[Depressao].sum(axis=1)\n",
    "\n",
    "Total = ['Foco_Pontuacao', 'Ansiedade_Pontuacao','Autoestima_Pontuacao','Depressao_Pontuacao']\n",
    "data['Total_Pontuacao'] = data[Total].sum(axis=1)\n",
    "\n",
    "##data.groupby('col8')['Foco_Pontuacao'].mean().sort_values(ascending=True).plot.bar(ylabel='Mean ADHD Score')\n",
    "##data.groupby('col8')['Ansiedade_Pontuacao'].mean().sort_values(ascending=True).plot.bar(ylabel='Mean ADHD Score')\n",
    "##data.groupby('col8')['Autoestima_Pontuacao'].mean().sort_values(ascending=True).plot.bar(ylabel='Mean ADHD Score')\n",
    "##data.groupby('col8')['Depressao_Pontuacao'].mean().sort_values(ascending=True).plot.bar(ylabel='Mean ADHD Score')\n",
    "##data.groupby('col8')['Total_Score'].mean().sort_values(ascending=True).plot.bar(ylabel='Mean ADHD Score')\n",
    "\n",
    "import matplotlib.pyplot as plt\n",
    "\n",
    "# Agrupar e calcular a média para cada variável\n",
    "adhd_score = data.groupby('col8')['Foco_Pontuacao'].mean().sort_values(ascending=True)\n",
    "ansiedade_score = data.groupby('col8')['Ansiedade_Pontuacao'].mean().sort_values(ascending=True)\n",
    "autoestima_score = data.groupby('col8')['Autoestima_Pontuacao'].mean().sort_values(ascending=True)\n",
    "depressao_score = data.groupby('col8')['Depressao_Pontuacao'].mean().sort_values(ascending=True)\n",
    "total_score = data.groupby('col8')['Total_Pontuacao'].mean().sort_values(ascending=True)\n",
    "\n",
    "# Configurar subplots\n",
    "fig, axes = plt.subplots(nrows=5, figsize=(8, 15))\n",
    "\n",
    "# Criar gráficos de barras para cada variável\n",
    "adhd_score.plot.bar(ax=axes[0], ylabel='Pontuação Foco', xlabel='Tempo Online', title='Foco')\n",
    "ansiedade_score.plot.bar(ax=axes[1], ylabel='Pontuação Ansiedade', xlabel='Tempo Online', title='Ansiedade')\n",
    "autoestima_score.plot.bar(ax=axes[2], ylabel='Pontuação Autoestima', xlabel='Tempo Online', title='Autoestima')\n",
    "depressao_score.plot.bar(ax=axes[3], ylabel='Pontuação Autoestima', xlabel='Tempo Online', title='Depressão')\n",
    "total_score.plot.bar(ax=axes[4], ylabel='Pontuação Total', xlabel='Tempo Online', title='Total')\n",
    "\n",
    "# Ajustar layout\n",
    "plt.tight_layout()\n",
    "\n",
    "# Exibir os subplots\n",
    "plt.show()\n",
    "\n"
   ]
  },
  {
   "cell_type": "code",
   "execution_count": 100,
   "id": "68774d1b-cc64-4b43-8c3a-e1070d06ced6",
   "metadata": {},
   "outputs": [
    {
     "name": "stdout",
     "output_type": "stream",
     "text": [
      "Observando os resultados para a pontução total de foco\n",
      "Multiple Comparison of Means - Tukey HSD, FWER=0.05\n",
      "===================================================\n",
      "group1 group2 meandiff p-adj   lower  upper  reject\n",
      "---------------------------------------------------\n",
      "     1      2   3.2983 0.0001  1.2661 5.3305   True\n",
      "     1      3   5.2778    0.0  3.3502 7.2054   True\n",
      "     1      4   6.0595    0.0  4.1111 8.0078   True\n",
      "     1      5   6.5382    0.0  4.4912 8.5852   True\n",
      "     1      6   7.2084    0.0  5.3125 9.1043   True\n",
      "     2      3   1.9795 0.0028  0.4676 3.4914   True\n",
      "     2      4   2.7611    0.0  1.2228 4.2994   True\n",
      "     2      5   3.2399    0.0  1.5783 4.9014   True\n",
      "     2      6   3.9101    0.0  2.4387 5.3815   True\n",
      "     3      4   0.7816 0.5984 -0.6155 2.1788  False\n",
      "     3      5   1.2604 0.1748 -0.2714 2.7922  False\n",
      "     3      6   1.9306 0.0005  0.6075 3.2537   True\n",
      "     4      5   0.4787 0.9513 -1.0791 2.0366  False\n",
      "     4      6    1.149 0.1482 -0.2042 2.5021  False\n",
      "     5      6   0.6702 0.7929 -0.8215  2.162  False\n",
      "---------------------------------------------------\n",
      "\n",
      "Observando os resultados para a pontução total de ansiedade\n",
      "Multiple Comparison of Means - Tukey HSD, FWER=0.05\n",
      "===================================================\n",
      "group1 group2 meandiff p-adj   lower  upper  reject\n",
      "---------------------------------------------------\n",
      "     1      2   1.1504 0.0361  0.0441 2.2567   True\n",
      "     1      3   2.2944    0.0  1.2451 3.3438   True\n",
      "     1      4   2.7916    0.0  1.7309 3.8522   True\n",
      "     1      5   2.7871    0.0  1.6727 3.9015   True\n",
      "     1      6    3.463    0.0  2.4309 4.4951   True\n",
      "     2      3    1.144 0.0011  0.3209 1.9671   True\n",
      "     2      4   1.6412    0.0  0.8037 2.4786   True\n",
      "     2      5   1.6367    0.0  0.7321 2.5412   True\n",
      "     2      6   2.3126    0.0  1.5116 3.1136   True\n",
      "     3      4   0.4972 0.4218 -0.2634 1.2578  False\n",
      "     3      5   0.4927 0.5387 -0.3412 1.3266  False\n",
      "     3      6   1.1686 0.0001  0.4483 1.8888   True\n",
      "     4      5  -0.0045    1.0 -0.8526 0.8436  False\n",
      "     4      6   0.6714 0.0973 -0.0652  1.408  False\n",
      "     5      6   0.6759 0.1648 -0.1362  1.488  False\n",
      "---------------------------------------------------\n",
      "\n",
      "Observando os resultados para a pontução total de autoestima\n",
      "Multiple Comparison of Means - Tukey HSD, FWER=0.05\n",
      "===================================================\n",
      "group1 group2 meandiff p-adj   lower  upper  reject\n",
      "---------------------------------------------------\n",
      "     1      2   0.6336 0.8336 -0.8688 2.1361  False\n",
      "     1      3   1.0973 0.2382 -0.3278 2.5223  False\n",
      "     1      4    1.456 0.0458  0.0156 2.8965   True\n",
      "     1      5   1.5645  0.038  0.0511 3.0779   True\n",
      "     1      6   1.7282 0.0061  0.3265 3.1299   True\n",
      "     2      3   0.4636 0.8431 -0.6541 1.5814  False\n",
      "     2      4   0.8224 0.3053 -0.3149 1.9597  False\n",
      "     2      5   0.9309 0.2546 -0.2975 2.1593  False\n",
      "     2      6   1.0946 0.0476  0.0068 2.1824   True\n",
      "     3      4   0.3588 0.9198 -0.6742 1.3917  False\n",
      "     3      5   0.4673  0.846 -0.6652 1.5997  False\n",
      "     3      6   0.6309 0.4374 -0.3472 1.6091  False\n",
      "     4      5   0.1085 0.9998 -1.0433 1.2602  False\n",
      "     4      6   0.2722 0.9711 -0.7283 1.2726  False\n",
      "     5      6   0.1637 0.9982 -0.9392 1.2666  False\n",
      "---------------------------------------------------\n",
      "\n",
      "Observando os resultados para a pontução total de depressão\n",
      "Multiple Comparison of Means - Tukey HSD, FWER=0.05\n",
      "===================================================\n",
      "group1 group2 meandiff p-adj   lower  upper  reject\n",
      "---------------------------------------------------\n",
      "     1      2    1.795 0.0399  0.0487 3.5413   True\n",
      "     1      3   2.6305 0.0001  0.9741 4.2868   True\n",
      "     1      4   3.3773    0.0  1.7031 5.0515   True\n",
      "     1      5   3.5026    0.0  1.7436 5.2617   True\n",
      "     1      6   4.1339    0.0  2.5047 5.7631   True\n",
      "     2      3   0.8355 0.4409 -0.4637 2.1347  False\n",
      "     2      4   1.5823 0.0087  0.2604 2.9042   True\n",
      "     2      5   1.7077 0.0088  0.2799 3.1355   True\n",
      "     2      6   2.3389    0.0  1.0746 3.6033   True\n",
      "     3      4   0.7468 0.4797 -0.4537 1.9474  False\n",
      "     3      5   0.8722 0.4059 -0.4441 2.1885  False\n",
      "     3      6   1.5034 0.0024  0.3665 2.6403   True\n",
      "     4      5   0.1253 0.9998 -1.2133  1.464  False\n",
      "     4      6   0.7566 0.4272 -0.4062 1.9194  False\n",
      "     5      6   0.6312 0.7216 -0.6507 1.9131  False\n",
      "---------------------------------------------------\n",
      "\n",
      "Observando os resultados para a pontução total geral\n",
      "Multiple Comparison of Means - Tukey HSD, FWER=0.05 \n",
      "====================================================\n",
      "group1 group2 meandiff p-adj   lower   upper  reject\n",
      "----------------------------------------------------\n",
      "     1      2   6.8773  0.001  1.9687 11.7859   True\n",
      "     1      3  11.2999    0.0  6.6442 15.9557   True\n",
      "     1      4  13.6844    0.0  8.9784 18.3903   True\n",
      "     1      5  14.3924    0.0  9.4481 19.3368   True\n",
      "     1      6  16.5335    0.0 11.9541 21.1128   True\n",
      "     2      3   4.4226 0.0076  0.7708  8.0745   True\n",
      "     2      4   6.8071    0.0  3.0915 10.5227   True\n",
      "     2      5   7.5151    0.0  3.5019 11.5284   True\n",
      "     2      6   9.6562    0.0  6.1023 13.2101   True\n",
      "     3      4   2.3844 0.3314 -0.9902  5.7591  False\n",
      "     3      5   3.0925 0.1612 -0.6073  6.7923  False\n",
      "     3      6   5.2335 0.0001  2.0378  8.4292   True\n",
      "     4      5   0.7081 0.9946 -3.0547  4.4708  False\n",
      "     4      6   2.8491 0.1278 -0.4193  6.1174  False\n",
      "     5      6    2.141 0.5323 -1.4622  5.7442  False\n",
      "----------------------------------------------------\n"
     ]
    }
   ],
   "source": [
    "print('Observando os resultados para a pontução total de foco')\n",
    "mc1 = multi.MultiComparison(data['Foco_Pontuacao'], data['col8'])\n",
    "res1 = mc1.tukeyhsd()\n",
    "print(res1.summary())\n",
    "\n",
    "print('')\n",
    "print('Observando os resultados para a pontução total de ansiedade')\n",
    "mc1 = multi.MultiComparison(data['Ansiedade_Pontuacao'], data['col8'])\n",
    "res2 = mc1.tukeyhsd()\n",
    "print(res2.summary())\n",
    "\n",
    "print('')\n",
    "print('Observando os resultados para a pontução total de autoestima')\n",
    "mc1 = multi.MultiComparison(data['Autoestima_Pontuacao'], data['col8'])\n",
    "res3 = mc1.tukeyhsd()\n",
    "print(res3.summary())\n",
    "\n",
    "print('')\n",
    "print('Observando os resultados para a pontução total de depressão')\n",
    "mc1 = multi.MultiComparison(data['Depressao_Pontuacao'], data['col8'])\n",
    "res4 = mc1.tukeyhsd()\n",
    "print(res4.summary())\n",
    "\n",
    "print('')\n",
    "print('Observando os resultados para a pontução total geral')\n",
    "mc1 = multi.MultiComparison(data['Total_Pontuacao'], data['col8'])\n",
    "res5 = mc1.tukeyhsd()\n",
    "print(res5.summary())\n"
   ]
  },
  {
   "cell_type": "markdown",
   "id": "e1812f6f-023d-4e2f-94fd-2e7ff368e14d",
   "metadata": {},
   "source": [
    "**A conclusão geral é que o tempo gasto online, representado pelos diferentes grupos, está associado a variações significativas nas medidas de foco, ansiedade, autoestima, depressão e na pontuação total geral. Essas conclusões são valiosas para compreender os impactos potenciais do tempo online na saúde mental.**"
   ]
  },
  {
   "cell_type": "code",
   "execution_count": null,
   "id": "a2fb81e5-5da9-4bfd-bb0e-d52b8bd84ece",
   "metadata": {},
   "outputs": [],
   "source": []
  }
 ],
 "metadata": {
  "kernelspec": {
   "display_name": "Python 3 (ipykernel)",
   "language": "python",
   "name": "python3"
  },
  "language_info": {
   "codemirror_mode": {
    "name": "ipython",
    "version": 3
   },
   "file_extension": ".py",
   "mimetype": "text/x-python",
   "name": "python",
   "nbconvert_exporter": "python",
   "pygments_lexer": "ipython3",
   "version": "3.10.6"
  }
 },
 "nbformat": 4,
 "nbformat_minor": 5
}
